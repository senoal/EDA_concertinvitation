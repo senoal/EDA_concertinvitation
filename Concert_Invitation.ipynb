{
 "cells": [
  {
   "cell_type": "markdown",
   "id": "9ab1cb17-fd04-47e1-b982-40cd50702a66",
   "metadata": {},
   "source": [
    "# <b>Data</b>"
   ]
  },
  {
   "cell_type": "markdown",
   "id": "af293abd-9b99-454f-a56e-33f9adc029ef",
   "metadata": {},
   "source": [
    "## Import Librarries"
   ]
  },
  {
   "cell_type": "code",
   "execution_count": 1,
   "id": "d948e988-a2c8-488a-8290-86fcbab0f056",
   "metadata": {},
   "outputs": [],
   "source": [
    "import pandas as pd\n",
    "import matplotlib.pyplot as plt"
   ]
  },
  {
   "cell_type": "code",
   "execution_count": 2,
   "id": "eb4dc322-c7ec-40e5-9b65-cf2c1cd51f87",
   "metadata": {},
   "outputs": [
    {
     "data": {
      "text/html": [
       "<div>\n",
       "<style scoped>\n",
       "    .dataframe tbody tr th:only-of-type {\n",
       "        vertical-align: middle;\n",
       "    }\n",
       "\n",
       "    .dataframe tbody tr th {\n",
       "        vertical-align: top;\n",
       "    }\n",
       "\n",
       "    .dataframe thead th {\n",
       "        text-align: right;\n",
       "    }\n",
       "</style>\n",
       "<table border=\"1\" class=\"dataframe\">\n",
       "  <thead>\n",
       "    <tr style=\"text-align: right;\">\n",
       "      <th></th>\n",
       "      <th>Timestamp</th>\n",
       "      <th>What's your name?</th>\n",
       "      <th>Will you attend?</th>\n",
       "      <th>How many people will come with you?</th>\n",
       "      <th>What will you bring?</th>\n",
       "      <th>Do you have any disease?</th>\n",
       "      <th>What is your email?</th>\n",
       "    </tr>\n",
       "  </thead>\n",
       "  <tbody>\n",
       "    <tr>\n",
       "      <th>0</th>\n",
       "      <td>2021-09-02 10:31:27.639</td>\n",
       "      <td>Leo Phyno</td>\n",
       "      <td>Yes, I will attend.</td>\n",
       "      <td>1.0</td>\n",
       "      <td>Mineral water</td>\n",
       "      <td>no</td>\n",
       "      <td>phynoal@gmail.com</td>\n",
       "    </tr>\n",
       "    <tr>\n",
       "      <th>1</th>\n",
       "      <td>2021-09-02 10:37:08.559</td>\n",
       "      <td>Karina Van</td>\n",
       "      <td>Yes, I will attend.</td>\n",
       "      <td>3.0</td>\n",
       "      <td>Snacks, Mineral water, Soda</td>\n",
       "      <td>Yes, flu</td>\n",
       "      <td>van3397@gmail.com</td>\n",
       "    </tr>\n",
       "    <tr>\n",
       "      <th>2</th>\n",
       "      <td>2021-09-02 10:47:45.000</td>\n",
       "      <td>Peter</td>\n",
       "      <td>Sorry, I will not attend.</td>\n",
       "      <td>NaN</td>\n",
       "      <td>NaN</td>\n",
       "      <td>NaN</td>\n",
       "      <td>NaN</td>\n",
       "    </tr>\n",
       "    <tr>\n",
       "      <th>3</th>\n",
       "      <td>2021-09-02 10:47:46.427</td>\n",
       "      <td>Terry Lyana</td>\n",
       "      <td>Yes, I will attend.</td>\n",
       "      <td>1.0</td>\n",
       "      <td>Soda</td>\n",
       "      <td>no</td>\n",
       "      <td>lylyana09@gmail.com</td>\n",
       "    </tr>\n",
       "    <tr>\n",
       "      <th>4</th>\n",
       "      <td>2021-09-02 10:48:08.516</td>\n",
       "      <td>Peter</td>\n",
       "      <td>Sorry, I will not attend.</td>\n",
       "      <td>NaN</td>\n",
       "      <td>NaN</td>\n",
       "      <td>NaN</td>\n",
       "      <td>NaN</td>\n",
       "    </tr>\n",
       "    <tr>\n",
       "      <th>5</th>\n",
       "      <td>2021-09-02 10:49:08.797</td>\n",
       "      <td>Olivia</td>\n",
       "      <td>Yes, I will attend.</td>\n",
       "      <td>0.0</td>\n",
       "      <td>Mineral water</td>\n",
       "      <td>no</td>\n",
       "      <td>ololiiva@gmail.com</td>\n",
       "    </tr>\n",
       "    <tr>\n",
       "      <th>6</th>\n",
       "      <td>2021-09-02 11:23:26.891</td>\n",
       "      <td>Emma</td>\n",
       "      <td>Yes, I will attend.</td>\n",
       "      <td>1.0</td>\n",
       "      <td>Snacks, Soda</td>\n",
       "      <td>no</td>\n",
       "      <td>emmmaa@gmail.com</td>\n",
       "    </tr>\n",
       "    <tr>\n",
       "      <th>7</th>\n",
       "      <td>2021-09-02 11:31:26.323</td>\n",
       "      <td>JOHN AVA</td>\n",
       "      <td>Yes, I will attend.</td>\n",
       "      <td>4.0</td>\n",
       "      <td>Junk foods, Snacks, Mineral water, Soda</td>\n",
       "      <td>no</td>\n",
       "      <td>avavajohn@gmail.com</td>\n",
       "    </tr>\n",
       "    <tr>\n",
       "      <th>8</th>\n",
       "      <td>2021-09-02 11:32:34.917</td>\n",
       "      <td>Noah harary</td>\n",
       "      <td>Yes, I will attend.</td>\n",
       "      <td>1.0</td>\n",
       "      <td>Snacks, Mineral water</td>\n",
       "      <td>no</td>\n",
       "      <td>harnoah@gmail.com</td>\n",
       "    </tr>\n",
       "    <tr>\n",
       "      <th>9</th>\n",
       "      <td>2021-09-02 11:35:33.677</td>\n",
       "      <td>William</td>\n",
       "      <td>Yes, I will attend.</td>\n",
       "      <td>4.0</td>\n",
       "      <td>NaN</td>\n",
       "      <td>no</td>\n",
       "      <td>wilwil331@gmail.com</td>\n",
       "    </tr>\n",
       "  </tbody>\n",
       "</table>\n",
       "</div>"
      ],
      "text/plain": [
       "                Timestamp What's your name?           Will you attend?  \\\n",
       "0 2021-09-02 10:31:27.639         Leo Phyno        Yes, I will attend.   \n",
       "1 2021-09-02 10:37:08.559        Karina Van        Yes, I will attend.   \n",
       "2 2021-09-02 10:47:45.000             Peter  Sorry, I will not attend.   \n",
       "3 2021-09-02 10:47:46.427       Terry Lyana        Yes, I will attend.   \n",
       "4 2021-09-02 10:48:08.516             Peter  Sorry, I will not attend.   \n",
       "5 2021-09-02 10:49:08.797            Olivia        Yes, I will attend.   \n",
       "6 2021-09-02 11:23:26.891              Emma        Yes, I will attend.   \n",
       "7 2021-09-02 11:31:26.323          JOHN AVA        Yes, I will attend.   \n",
       "8 2021-09-02 11:32:34.917       Noah harary        Yes, I will attend.   \n",
       "9 2021-09-02 11:35:33.677           William        Yes, I will attend.   \n",
       "\n",
       "   How many people will come with you?  \\\n",
       "0                                  1.0   \n",
       "1                                  3.0   \n",
       "2                                  NaN   \n",
       "3                                  1.0   \n",
       "4                                  NaN   \n",
       "5                                  0.0   \n",
       "6                                  1.0   \n",
       "7                                  4.0   \n",
       "8                                  1.0   \n",
       "9                                  4.0   \n",
       "\n",
       "                      What will you bring? Do you have any disease?  \\\n",
       "0                            Mineral water                       no   \n",
       "1              Snacks, Mineral water, Soda                 Yes, flu   \n",
       "2                                      NaN                      NaN   \n",
       "3                                     Soda                       no   \n",
       "4                                      NaN                      NaN   \n",
       "5                            Mineral water                       no   \n",
       "6                             Snacks, Soda                       no   \n",
       "7  Junk foods, Snacks, Mineral water, Soda                       no   \n",
       "8                    Snacks, Mineral water                       no   \n",
       "9                                      NaN                       no   \n",
       "\n",
       "   What is your email?  \n",
       "0    phynoal@gmail.com  \n",
       "1    van3397@gmail.com  \n",
       "2                  NaN  \n",
       "3  lylyana09@gmail.com  \n",
       "4                  NaN  \n",
       "5   ololiiva@gmail.com  \n",
       "6     emmmaa@gmail.com  \n",
       "7  avavajohn@gmail.com  \n",
       "8    harnoah@gmail.com  \n",
       "9  wilwil331@gmail.com  "
      ]
     },
     "execution_count": 2,
     "metadata": {},
     "output_type": "execute_result"
    }
   ],
   "source": [
    "data = pd.read_excel ('Concert_Invitation.xlsx')\n",
    "data.head(10)"
   ]
  },
  {
   "cell_type": "markdown",
   "id": "4eba7e83-d0bf-4d28-9bd8-fd3ebfc6ce46",
   "metadata": {},
   "source": [
    "## Data Info"
   ]
  },
  {
   "cell_type": "code",
   "execution_count": 3,
   "id": "b4aa77cf-010a-4f0a-bc24-3ca674e33a1d",
   "metadata": {},
   "outputs": [
    {
     "name": "stdout",
     "output_type": "stream",
     "text": [
      "<class 'pandas.core.frame.DataFrame'>\n",
      "RangeIndex: 30 entries, 0 to 29\n",
      "Data columns (total 7 columns):\n",
      " #   Column                               Non-Null Count  Dtype         \n",
      "---  ------                               --------------  -----         \n",
      " 0   Timestamp                            30 non-null     datetime64[ns]\n",
      " 1   What's your name?                    30 non-null     object        \n",
      " 2   Will you attend?                     30 non-null     object        \n",
      " 3   How many people will come with you?  28 non-null     float64       \n",
      " 4   What will you bring?                 15 non-null     object        \n",
      " 5   Do you have any disease?             28 non-null     object        \n",
      " 6   What is your email?                  28 non-null     object        \n",
      "dtypes: datetime64[ns](1), float64(1), object(5)\n",
      "memory usage: 1.8+ KB\n"
     ]
    }
   ],
   "source": [
    "data.info()"
   ]
  },
  {
   "cell_type": "markdown",
   "id": "885501fd-3849-4d92-8df0-391585999d1d",
   "metadata": {},
   "source": [
    "<!-- ## 1.2 Drop column -->"
   ]
  },
  {
   "cell_type": "code",
   "execution_count": 4,
   "id": "1fffb3b5-0cfb-4c9f-8eb7-f1cb20f6751c",
   "metadata": {},
   "outputs": [
    {
     "data": {
      "text/html": [
       "<div>\n",
       "<style scoped>\n",
       "    .dataframe tbody tr th:only-of-type {\n",
       "        vertical-align: middle;\n",
       "    }\n",
       "\n",
       "    .dataframe tbody tr th {\n",
       "        vertical-align: top;\n",
       "    }\n",
       "\n",
       "    .dataframe thead th {\n",
       "        text-align: right;\n",
       "    }\n",
       "</style>\n",
       "<table border=\"1\" class=\"dataframe\">\n",
       "  <thead>\n",
       "    <tr style=\"text-align: right;\">\n",
       "      <th></th>\n",
       "      <th>What's your name?</th>\n",
       "      <th>Will you attend?</th>\n",
       "      <th>How many people will come with you?</th>\n",
       "      <th>What will you bring?</th>\n",
       "      <th>Do you have any disease?</th>\n",
       "      <th>What is your email?</th>\n",
       "    </tr>\n",
       "  </thead>\n",
       "  <tbody>\n",
       "    <tr>\n",
       "      <th>0</th>\n",
       "      <td>Leo Phyno</td>\n",
       "      <td>Yes, I will attend.</td>\n",
       "      <td>1.0</td>\n",
       "      <td>Mineral water</td>\n",
       "      <td>no</td>\n",
       "      <td>phynoal@gmail.com</td>\n",
       "    </tr>\n",
       "    <tr>\n",
       "      <th>1</th>\n",
       "      <td>Karina Van</td>\n",
       "      <td>Yes, I will attend.</td>\n",
       "      <td>3.0</td>\n",
       "      <td>Snacks, Mineral water, Soda</td>\n",
       "      <td>Yes, flu</td>\n",
       "      <td>van3397@gmail.com</td>\n",
       "    </tr>\n",
       "    <tr>\n",
       "      <th>2</th>\n",
       "      <td>Peter</td>\n",
       "      <td>Sorry, I will not attend.</td>\n",
       "      <td>NaN</td>\n",
       "      <td>NaN</td>\n",
       "      <td>NaN</td>\n",
       "      <td>NaN</td>\n",
       "    </tr>\n",
       "    <tr>\n",
       "      <th>3</th>\n",
       "      <td>Terry Lyana</td>\n",
       "      <td>Yes, I will attend.</td>\n",
       "      <td>1.0</td>\n",
       "      <td>Soda</td>\n",
       "      <td>no</td>\n",
       "      <td>lylyana09@gmail.com</td>\n",
       "    </tr>\n",
       "    <tr>\n",
       "      <th>4</th>\n",
       "      <td>Peter</td>\n",
       "      <td>Sorry, I will not attend.</td>\n",
       "      <td>NaN</td>\n",
       "      <td>NaN</td>\n",
       "      <td>NaN</td>\n",
       "      <td>NaN</td>\n",
       "    </tr>\n",
       "  </tbody>\n",
       "</table>\n",
       "</div>"
      ],
      "text/plain": [
       "  What's your name?           Will you attend?  \\\n",
       "0         Leo Phyno        Yes, I will attend.   \n",
       "1        Karina Van        Yes, I will attend.   \n",
       "2             Peter  Sorry, I will not attend.   \n",
       "3       Terry Lyana        Yes, I will attend.   \n",
       "4             Peter  Sorry, I will not attend.   \n",
       "\n",
       "   How many people will come with you?         What will you bring?  \\\n",
       "0                                  1.0                Mineral water   \n",
       "1                                  3.0  Snacks, Mineral water, Soda   \n",
       "2                                  NaN                          NaN   \n",
       "3                                  1.0                         Soda   \n",
       "4                                  NaN                          NaN   \n",
       "\n",
       "  Do you have any disease?  What is your email?  \n",
       "0                       no    phynoal@gmail.com  \n",
       "1                 Yes, flu    van3397@gmail.com  \n",
       "2                      NaN                  NaN  \n",
       "3                       no  lylyana09@gmail.com  \n",
       "4                      NaN                  NaN  "
      ]
     },
     "execution_count": 4,
     "metadata": {},
     "output_type": "execute_result"
    }
   ],
   "source": [
    "data = data.drop(['Timestamp'], axis=1)\n",
    "data.head()"
   ]
  },
  {
   "cell_type": "markdown",
   "id": "8892e36c-6397-49bb-8735-41cc1ed9ce49",
   "metadata": {},
   "source": [
    "# <b>Data Preprocessing"
   ]
  },
  {
   "cell_type": "markdown",
   "id": "31b15542-c757-4088-b0f4-2492a5cf151c",
   "metadata": {},
   "source": [
    "## Nan Value"
   ]
  },
  {
   "cell_type": "code",
   "execution_count": 5,
   "id": "e9125d79-014a-4992-89e3-ce522be0d0d3",
   "metadata": {},
   "outputs": [
    {
     "data": {
      "text/plain": [
       "0"
      ]
     },
     "execution_count": 5,
     "metadata": {},
     "output_type": "execute_result"
    }
   ],
   "source": [
    "data[\"What's your name?\"].isna().sum()"
   ]
  },
  {
   "cell_type": "markdown",
   "id": "63daaa05-87e8-4507-a63b-b552beea76ef",
   "metadata": {},
   "source": [
    "## Uppercase"
   ]
  },
  {
   "cell_type": "code",
   "execution_count": 6,
   "id": "c7239eb0-11b6-4442-b355-e26a8536efc7",
   "metadata": {},
   "outputs": [],
   "source": [
    "data[\"What's your name?\"] = data[\"What's your name?\"].str.upper()\n",
    "data[\"Do you have any disease?\"] = data[\"Do you have any disease?\"].str.lower()\n",
    "data[\"What is your email?\"] = data[\"What is your email?\"].str.lower()"
   ]
  },
  {
   "cell_type": "markdown",
   "id": "49ae1c31-d1ca-4182-9c59-5a8f4ccb96fd",
   "metadata": {},
   "source": [
    "## Check duplicates"
   ]
  },
  {
   "cell_type": "code",
   "execution_count": 7,
   "id": "bd7d79c7-7395-449e-9b82-21bd055ed72c",
   "metadata": {},
   "outputs": [
    {
     "data": {
      "text/html": [
       "<div>\n",
       "<style scoped>\n",
       "    .dataframe tbody tr th:only-of-type {\n",
       "        vertical-align: middle;\n",
       "    }\n",
       "\n",
       "    .dataframe tbody tr th {\n",
       "        vertical-align: top;\n",
       "    }\n",
       "\n",
       "    .dataframe thead th {\n",
       "        text-align: right;\n",
       "    }\n",
       "</style>\n",
       "<table border=\"1\" class=\"dataframe\">\n",
       "  <thead>\n",
       "    <tr style=\"text-align: right;\">\n",
       "      <th></th>\n",
       "      <th>What's your name?</th>\n",
       "      <th>Will you attend?</th>\n",
       "      <th>How many people will come with you?</th>\n",
       "      <th>What will you bring?</th>\n",
       "      <th>Do you have any disease?</th>\n",
       "      <th>What is your email?</th>\n",
       "    </tr>\n",
       "  </thead>\n",
       "  <tbody>\n",
       "    <tr>\n",
       "      <th>2</th>\n",
       "      <td>PETER</td>\n",
       "      <td>Sorry, I will not attend.</td>\n",
       "      <td>NaN</td>\n",
       "      <td>NaN</td>\n",
       "      <td>NaN</td>\n",
       "      <td>NaN</td>\n",
       "    </tr>\n",
       "    <tr>\n",
       "      <th>4</th>\n",
       "      <td>PETER</td>\n",
       "      <td>Sorry, I will not attend.</td>\n",
       "      <td>NaN</td>\n",
       "      <td>NaN</td>\n",
       "      <td>NaN</td>\n",
       "      <td>NaN</td>\n",
       "    </tr>\n",
       "  </tbody>\n",
       "</table>\n",
       "</div>"
      ],
      "text/plain": [
       "  What's your name?           Will you attend?  \\\n",
       "2             PETER  Sorry, I will not attend.   \n",
       "4             PETER  Sorry, I will not attend.   \n",
       "\n",
       "   How many people will come with you? What will you bring?  \\\n",
       "2                                  NaN                  NaN   \n",
       "4                                  NaN                  NaN   \n",
       "\n",
       "  Do you have any disease? What is your email?  \n",
       "2                      NaN                 NaN  \n",
       "4                      NaN                 NaN  "
      ]
     },
     "execution_count": 7,
     "metadata": {},
     "output_type": "execute_result"
    }
   ],
   "source": [
    "data[data.duplicated(keep=False)]"
   ]
  },
  {
   "cell_type": "markdown",
   "id": "fe9967a8-7e70-42ea-b02b-3ee78eca5c83",
   "metadata": {},
   "source": [
    "## Drop duplicates"
   ]
  },
  {
   "cell_type": "code",
   "execution_count": 8,
   "id": "50f77455-447e-4323-bb65-4e422d5d162a",
   "metadata": {},
   "outputs": [
    {
     "data": {
      "text/html": [
       "<div>\n",
       "<style scoped>\n",
       "    .dataframe tbody tr th:only-of-type {\n",
       "        vertical-align: middle;\n",
       "    }\n",
       "\n",
       "    .dataframe tbody tr th {\n",
       "        vertical-align: top;\n",
       "    }\n",
       "\n",
       "    .dataframe thead th {\n",
       "        text-align: right;\n",
       "    }\n",
       "</style>\n",
       "<table border=\"1\" class=\"dataframe\">\n",
       "  <thead>\n",
       "    <tr style=\"text-align: right;\">\n",
       "      <th></th>\n",
       "      <th>What's your name?</th>\n",
       "      <th>Will you attend?</th>\n",
       "      <th>How many people will come with you?</th>\n",
       "      <th>What will you bring?</th>\n",
       "      <th>Do you have any disease?</th>\n",
       "      <th>What is your email?</th>\n",
       "    </tr>\n",
       "  </thead>\n",
       "  <tbody>\n",
       "    <tr>\n",
       "      <th>0</th>\n",
       "      <td>LEO PHYNO</td>\n",
       "      <td>Yes, I will attend.</td>\n",
       "      <td>1.0</td>\n",
       "      <td>Mineral water</td>\n",
       "      <td>no</td>\n",
       "      <td>phynoal@gmail.com</td>\n",
       "    </tr>\n",
       "    <tr>\n",
       "      <th>1</th>\n",
       "      <td>KARINA VAN</td>\n",
       "      <td>Yes, I will attend.</td>\n",
       "      <td>3.0</td>\n",
       "      <td>Snacks, Mineral water, Soda</td>\n",
       "      <td>yes, flu</td>\n",
       "      <td>van3397@gmail.com</td>\n",
       "    </tr>\n",
       "    <tr>\n",
       "      <th>2</th>\n",
       "      <td>TERRY LYANA</td>\n",
       "      <td>Yes, I will attend.</td>\n",
       "      <td>1.0</td>\n",
       "      <td>Soda</td>\n",
       "      <td>no</td>\n",
       "      <td>lylyana09@gmail.com</td>\n",
       "    </tr>\n",
       "    <tr>\n",
       "      <th>3</th>\n",
       "      <td>PETER</td>\n",
       "      <td>Sorry, I will not attend.</td>\n",
       "      <td>NaN</td>\n",
       "      <td>NaN</td>\n",
       "      <td>NaN</td>\n",
       "      <td>NaN</td>\n",
       "    </tr>\n",
       "    <tr>\n",
       "      <th>4</th>\n",
       "      <td>OLIVIA</td>\n",
       "      <td>Yes, I will attend.</td>\n",
       "      <td>0.0</td>\n",
       "      <td>Mineral water</td>\n",
       "      <td>no</td>\n",
       "      <td>ololiiva@gmail.com</td>\n",
       "    </tr>\n",
       "    <tr>\n",
       "      <th>5</th>\n",
       "      <td>EMMA</td>\n",
       "      <td>Yes, I will attend.</td>\n",
       "      <td>1.0</td>\n",
       "      <td>Snacks, Soda</td>\n",
       "      <td>no</td>\n",
       "      <td>emmmaa@gmail.com</td>\n",
       "    </tr>\n",
       "    <tr>\n",
       "      <th>6</th>\n",
       "      <td>JOHN AVA</td>\n",
       "      <td>Yes, I will attend.</td>\n",
       "      <td>4.0</td>\n",
       "      <td>Junk foods, Snacks, Mineral water, Soda</td>\n",
       "      <td>no</td>\n",
       "      <td>avavajohn@gmail.com</td>\n",
       "    </tr>\n",
       "    <tr>\n",
       "      <th>7</th>\n",
       "      <td>NOAH HARARY</td>\n",
       "      <td>Yes, I will attend.</td>\n",
       "      <td>1.0</td>\n",
       "      <td>Snacks, Mineral water</td>\n",
       "      <td>no</td>\n",
       "      <td>harnoah@gmail.com</td>\n",
       "    </tr>\n",
       "    <tr>\n",
       "      <th>8</th>\n",
       "      <td>WILLIAM</td>\n",
       "      <td>Yes, I will attend.</td>\n",
       "      <td>4.0</td>\n",
       "      <td>NaN</td>\n",
       "      <td>no</td>\n",
       "      <td>wilwil331@gmail.com</td>\n",
       "    </tr>\n",
       "    <tr>\n",
       "      <th>9</th>\n",
       "      <td>EMANUEL OLIVER</td>\n",
       "      <td>Yes, I will attend.</td>\n",
       "      <td>5.0</td>\n",
       "      <td>NaN</td>\n",
       "      <td>no</td>\n",
       "      <td>oliverema@gmail.com</td>\n",
       "    </tr>\n",
       "  </tbody>\n",
       "</table>\n",
       "</div>"
      ],
      "text/plain": [
       "  What's your name?           Will you attend?  \\\n",
       "0         LEO PHYNO        Yes, I will attend.   \n",
       "1        KARINA VAN        Yes, I will attend.   \n",
       "2       TERRY LYANA        Yes, I will attend.   \n",
       "3             PETER  Sorry, I will not attend.   \n",
       "4            OLIVIA        Yes, I will attend.   \n",
       "5              EMMA        Yes, I will attend.   \n",
       "6          JOHN AVA        Yes, I will attend.   \n",
       "7       NOAH HARARY        Yes, I will attend.   \n",
       "8           WILLIAM        Yes, I will attend.   \n",
       "9    EMANUEL OLIVER        Yes, I will attend.   \n",
       "\n",
       "   How many people will come with you?  \\\n",
       "0                                  1.0   \n",
       "1                                  3.0   \n",
       "2                                  1.0   \n",
       "3                                  NaN   \n",
       "4                                  0.0   \n",
       "5                                  1.0   \n",
       "6                                  4.0   \n",
       "7                                  1.0   \n",
       "8                                  4.0   \n",
       "9                                  5.0   \n",
       "\n",
       "                      What will you bring? Do you have any disease?  \\\n",
       "0                            Mineral water                       no   \n",
       "1              Snacks, Mineral water, Soda                 yes, flu   \n",
       "2                                     Soda                       no   \n",
       "3                                      NaN                      NaN   \n",
       "4                            Mineral water                       no   \n",
       "5                             Snacks, Soda                       no   \n",
       "6  Junk foods, Snacks, Mineral water, Soda                       no   \n",
       "7                    Snacks, Mineral water                       no   \n",
       "8                                      NaN                       no   \n",
       "9                                      NaN                       no   \n",
       "\n",
       "   What is your email?  \n",
       "0    phynoal@gmail.com  \n",
       "1    van3397@gmail.com  \n",
       "2  lylyana09@gmail.com  \n",
       "3                  NaN  \n",
       "4   ololiiva@gmail.com  \n",
       "5     emmmaa@gmail.com  \n",
       "6  avavajohn@gmail.com  \n",
       "7    harnoah@gmail.com  \n",
       "8  wilwil331@gmail.com  \n",
       "9  oliverema@gmail.com  "
      ]
     },
     "execution_count": 8,
     "metadata": {},
     "output_type": "execute_result"
    }
   ],
   "source": [
    "data = data.drop_duplicates(subset=\"What's your name?\", keep='last').copy()\n",
    "data = data.reset_index(drop=True)\n",
    "data.head(10)"
   ]
  },
  {
   "cell_type": "code",
   "execution_count": 9,
   "id": "9379bd09-8118-4275-9989-4961183678e1",
   "metadata": {},
   "outputs": [
    {
     "name": "stdout",
     "output_type": "stream",
     "text": [
      "<class 'pandas.core.frame.DataFrame'>\n",
      "RangeIndex: 29 entries, 0 to 28\n",
      "Data columns (total 6 columns):\n",
      " #   Column                               Non-Null Count  Dtype  \n",
      "---  ------                               --------------  -----  \n",
      " 0   What's your name?                    29 non-null     object \n",
      " 1   Will you attend?                     29 non-null     object \n",
      " 2   How many people will come with you?  28 non-null     float64\n",
      " 3   What will you bring?                 15 non-null     object \n",
      " 4   Do you have any disease?             28 non-null     object \n",
      " 5   What is your email?                  28 non-null     object \n",
      "dtypes: float64(1), object(5)\n",
      "memory usage: 1.5+ KB\n"
     ]
    }
   ],
   "source": [
    "data.info()"
   ]
  },
  {
   "cell_type": "code",
   "execution_count": 10,
   "id": "0aec5637-e613-42e1-ba56-89214a6f9a9c",
   "metadata": {},
   "outputs": [
    {
     "data": {
      "text/html": [
       "<div>\n",
       "<style scoped>\n",
       "    .dataframe tbody tr th:only-of-type {\n",
       "        vertical-align: middle;\n",
       "    }\n",
       "\n",
       "    .dataframe tbody tr th {\n",
       "        vertical-align: top;\n",
       "    }\n",
       "\n",
       "    .dataframe thead th {\n",
       "        text-align: right;\n",
       "    }\n",
       "</style>\n",
       "<table border=\"1\" class=\"dataframe\">\n",
       "  <thead>\n",
       "    <tr style=\"text-align: right;\">\n",
       "      <th></th>\n",
       "      <th>What's your name?</th>\n",
       "      <th>Will you attend?</th>\n",
       "      <th>How many people will come with you?</th>\n",
       "      <th>What will you bring?</th>\n",
       "      <th>Do you have any disease?</th>\n",
       "      <th>What is your email?</th>\n",
       "    </tr>\n",
       "  </thead>\n",
       "  <tbody>\n",
       "  </tbody>\n",
       "</table>\n",
       "</div>"
      ],
      "text/plain": [
       "Empty DataFrame\n",
       "Columns: [What's your name?, Will you attend?, How many people will come with you?, What will you bring?, Do you have any disease?, What is your email?]\n",
       "Index: []"
      ]
     },
     "execution_count": 10,
     "metadata": {},
     "output_type": "execute_result"
    }
   ],
   "source": [
    "# check after drop_duplicates\n",
    "data[data.duplicated(keep=False)]"
   ]
  },
  {
   "cell_type": "markdown",
   "id": "4db2ad4e-22f2-4894-9551-3c9bd0d075a8",
   "metadata": {},
   "source": [
    "# <b> Data Processing"
   ]
  },
  {
   "cell_type": "markdown",
   "id": "2265628e-3c08-4457-a50e-6add0d66dc59",
   "metadata": {},
   "source": [
    "## Will you attend?"
   ]
  },
  {
   "cell_type": "markdown",
   "id": "07cbf44a-754e-4693-8dac-fc1fe106b6ab",
   "metadata": {},
   "source": [
    "### Value counts"
   ]
  },
  {
   "cell_type": "code",
   "execution_count": 11,
   "id": "67fc9d8c-a5fc-4029-ae00-3125294457a0",
   "metadata": {},
   "outputs": [
    {
     "data": {
      "text/plain": [
       "Yes, I will attend.          28\n",
       "Sorry, I will not attend.     1\n",
       "Name: Will you attend?, dtype: int64"
      ]
     },
     "execution_count": 11,
     "metadata": {},
     "output_type": "execute_result"
    }
   ],
   "source": [
    "data[\"Will you attend?\"].value_counts()"
   ]
  },
  {
   "cell_type": "markdown",
   "id": "b4a337dd-fe2f-4939-895c-f8d54852e427",
   "metadata": {},
   "source": [
    "### Function : attend"
   ]
  },
  {
   "cell_type": "code",
   "execution_count": 12,
   "id": "e8a31e76-476f-4d72-b1f8-0562b363c12e",
   "metadata": {},
   "outputs": [
    {
     "data": {
      "image/png": "[encoded data removed]",
      "text/plain": [
       "<Figure size 432x288 with 1 Axes>"
      ]
     },
     "metadata": {},
     "output_type": "display_data"
    },
    {
     "name": "stdout",
     "output_type": "stream",
     "text": [
      "            Will you attend?  count\n",
      "0        Yes, I will attend.     28\n",
      "1  Sorry, I will not attend.      1\n"
     ]
    }
   ],
   "source": [
    "def attend():\n",
    "#     buat dataframe baru dari kolom [1]\n",
    "    att = data[\"Will you attend?\"].value_counts().rename_axis(\"Will you attend?\").reset_index(name='count')\n",
    "#     replace value\n",
    "    att['Will you attend?'].replace(1, \"Yes\", inplace=True)\n",
    "    att['Will you attend?'].replace(0, \"No\", inplace=True)\n",
    "\n",
    "#     tentukan sumbu\n",
    "    x = att[\"Will you attend?\"]\n",
    "    y = att['count']\n",
    "#     jumlah total\n",
    "    a = len(data[\"Will you attend?\"])\n",
    "#     buat persentase\n",
    "    exp = y/a\n",
    "\n",
    "    plt.title(\"Will you attend?\")\n",
    "    plt.pie(y, labels = x, startangle = 180,\n",
    "            explode=exp, shadow = True,\n",
    "           autopct = '%1.2f%%')\n",
    "    plt.show()\n",
    "    att = pd.DataFrame(att)\n",
    "#     att\n",
    "    print(att)\n",
    "attend()"
   ]
  },
  {
   "cell_type": "markdown",
   "id": "06f963ac-82c7-4ebd-bbf7-4add879c0925",
   "metadata": {},
   "source": [
    "## How many people will come with you?"
   ]
  },
  {
   "cell_type": "markdown",
   "id": "ecb84e27-135b-4fe9-9ea4-211e0a625e3c",
   "metadata": {},
   "source": [
    "### Delete data based on condition on a column"
   ]
  },
  {
   "cell_type": "code",
   "execution_count": 17,
   "id": "e4e028eb-c96c-47fd-a298-b77261716d7d",
   "metadata": {},
   "outputs": [
    {
     "data": {
      "text/html": [
       "<div>\n",
       "<style scoped>\n",
       "    .dataframe tbody tr th:only-of-type {\n",
       "        vertical-align: middle;\n",
       "    }\n",
       "\n",
       "    .dataframe tbody tr th {\n",
       "        vertical-align: top;\n",
       "    }\n",
       "\n",
       "    .dataframe thead th {\n",
       "        text-align: right;\n",
       "    }\n",
       "</style>\n",
       "<table border=\"1\" class=\"dataframe\">\n",
       "  <thead>\n",
       "    <tr style=\"text-align: right;\">\n",
       "      <th></th>\n",
       "      <th>What's your name?</th>\n",
       "      <th>Will you attend?</th>\n",
       "      <th>How many people will come with you?</th>\n",
       "      <th>What will you bring?</th>\n",
       "      <th>Do you have any disease?</th>\n",
       "      <th>What is your email?</th>\n",
       "    </tr>\n",
       "  </thead>\n",
       "  <tbody>\n",
       "    <tr>\n",
       "      <th>0</th>\n",
       "      <td>LEO PHYNO</td>\n",
       "      <td>Yes, I will attend.</td>\n",
       "      <td>1.0</td>\n",
       "      <td>Mineral water</td>\n",
       "      <td>no</td>\n",
       "      <td>phynoal@gmail.com</td>\n",
       "    </tr>\n",
       "    <tr>\n",
       "      <th>1</th>\n",
       "      <td>KARINA VAN</td>\n",
       "      <td>Yes, I will attend.</td>\n",
       "      <td>3.0</td>\n",
       "      <td>Snacks, Mineral water, Soda</td>\n",
       "      <td>yes, flu</td>\n",
       "      <td>van3397@gmail.com</td>\n",
       "    </tr>\n",
       "    <tr>\n",
       "      <th>2</th>\n",
       "      <td>TERRY LYANA</td>\n",
       "      <td>Yes, I will attend.</td>\n",
       "      <td>1.0</td>\n",
       "      <td>Soda</td>\n",
       "      <td>no</td>\n",
       "      <td>lylyana09@gmail.com</td>\n",
       "    </tr>\n",
       "    <tr>\n",
       "      <th>3</th>\n",
       "      <td>OLIVIA</td>\n",
       "      <td>Yes, I will attend.</td>\n",
       "      <td>0.0</td>\n",
       "      <td>Mineral water</td>\n",
       "      <td>no</td>\n",
       "      <td>ololiiva@gmail.com</td>\n",
       "    </tr>\n",
       "    <tr>\n",
       "      <th>4</th>\n",
       "      <td>EMMA</td>\n",
       "      <td>Yes, I will attend.</td>\n",
       "      <td>1.0</td>\n",
       "      <td>Snacks, Soda</td>\n",
       "      <td>no</td>\n",
       "      <td>emmmaa@gmail.com</td>\n",
       "    </tr>\n",
       "    <tr>\n",
       "      <th>5</th>\n",
       "      <td>JOHN AVA</td>\n",
       "      <td>Yes, I will attend.</td>\n",
       "      <td>4.0</td>\n",
       "      <td>Junk foods, Snacks, Mineral water, Soda</td>\n",
       "      <td>no</td>\n",
       "      <td>avavajohn@gmail.com</td>\n",
       "    </tr>\n",
       "    <tr>\n",
       "      <th>6</th>\n",
       "      <td>NOAH HARARY</td>\n",
       "      <td>Yes, I will attend.</td>\n",
       "      <td>1.0</td>\n",
       "      <td>Snacks, Mineral water</td>\n",
       "      <td>no</td>\n",
       "      <td>harnoah@gmail.com</td>\n",
       "    </tr>\n",
       "    <tr>\n",
       "      <th>7</th>\n",
       "      <td>WILLIAM</td>\n",
       "      <td>Yes, I will attend.</td>\n",
       "      <td>4.0</td>\n",
       "      <td>NaN</td>\n",
       "      <td>no</td>\n",
       "      <td>wilwil331@gmail.com</td>\n",
       "    </tr>\n",
       "    <tr>\n",
       "      <th>8</th>\n",
       "      <td>EMANUEL OLIVER</td>\n",
       "      <td>Yes, I will attend.</td>\n",
       "      <td>5.0</td>\n",
       "      <td>NaN</td>\n",
       "      <td>no</td>\n",
       "      <td>oliverema@gmail.com</td>\n",
       "    </tr>\n",
       "    <tr>\n",
       "      <th>9</th>\n",
       "      <td>LIAM LOGAN</td>\n",
       "      <td>Yes, I will attend.</td>\n",
       "      <td>5.0</td>\n",
       "      <td>NaN</td>\n",
       "      <td>no</td>\n",
       "      <td>loganlog@gmail.com</td>\n",
       "    </tr>\n",
       "    <tr>\n",
       "      <th>10</th>\n",
       "      <td>ASHER KAI</td>\n",
       "      <td>Yes, I will attend.</td>\n",
       "      <td>0.0</td>\n",
       "      <td>NaN</td>\n",
       "      <td>no</td>\n",
       "      <td>akai@gmail.com</td>\n",
       "    </tr>\n",
       "    <tr>\n",
       "      <th>11</th>\n",
       "      <td>ETHAN LUCA</td>\n",
       "      <td>Yes, I will attend.</td>\n",
       "      <td>5.0</td>\n",
       "      <td>NaN</td>\n",
       "      <td>no</td>\n",
       "      <td>lukaethan02@gmail.com</td>\n",
       "    </tr>\n",
       "    <tr>\n",
       "      <th>12</th>\n",
       "      <td>SCARLETT AVERY</td>\n",
       "      <td>Yes, I will attend.</td>\n",
       "      <td>1.0</td>\n",
       "      <td>Mineral water</td>\n",
       "      <td>no</td>\n",
       "      <td>scarletta@gmail.com</td>\n",
       "    </tr>\n",
       "    <tr>\n",
       "      <th>13</th>\n",
       "      <td>JAMES OWEN</td>\n",
       "      <td>Yes, I will attend.</td>\n",
       "      <td>3.0</td>\n",
       "      <td>NaN</td>\n",
       "      <td>no</td>\n",
       "      <td>ownnj@gmail.com</td>\n",
       "    </tr>\n",
       "    <tr>\n",
       "      <th>14</th>\n",
       "      <td>VIOLET QUINN</td>\n",
       "      <td>Yes, I will attend.</td>\n",
       "      <td>1.0</td>\n",
       "      <td>NaN</td>\n",
       "      <td>no</td>\n",
       "      <td>quinnvio@gmail.com</td>\n",
       "    </tr>\n",
       "    <tr>\n",
       "      <th>15</th>\n",
       "      <td>GABRIEL RILEY</td>\n",
       "      <td>Yes, I will attend.</td>\n",
       "      <td>3.0</td>\n",
       "      <td>NaN</td>\n",
       "      <td>no</td>\n",
       "      <td>rilgabriel@gmail.com</td>\n",
       "    </tr>\n",
       "    <tr>\n",
       "      <th>16</th>\n",
       "      <td>BRIAR SEBASTIAN</td>\n",
       "      <td>Yes, I will attend.</td>\n",
       "      <td>2.0</td>\n",
       "      <td>Soda</td>\n",
       "      <td>no</td>\n",
       "      <td>bsebastian@gmail.com</td>\n",
       "    </tr>\n",
       "    <tr>\n",
       "      <th>17</th>\n",
       "      <td>ALEXANDRA</td>\n",
       "      <td>Yes, I will attend.</td>\n",
       "      <td>4.0</td>\n",
       "      <td>Staple foods, Snacks</td>\n",
       "      <td>yes</td>\n",
       "      <td>alexandra@gmail.com</td>\n",
       "    </tr>\n",
       "    <tr>\n",
       "      <th>18</th>\n",
       "      <td>STEVEN</td>\n",
       "      <td>Yes, I will attend.</td>\n",
       "      <td>2.0</td>\n",
       "      <td>Junk foods, Mineral water</td>\n",
       "      <td>no</td>\n",
       "      <td>steven@steven.com</td>\n",
       "    </tr>\n",
       "    <tr>\n",
       "      <th>19</th>\n",
       "      <td>FELIX EDEN</td>\n",
       "      <td>Yes, I will attend.</td>\n",
       "      <td>7.0</td>\n",
       "      <td>NaN</td>\n",
       "      <td>no</td>\n",
       "      <td>feden@gmail.com</td>\n",
       "    </tr>\n",
       "    <tr>\n",
       "      <th>20</th>\n",
       "      <td>STELLA</td>\n",
       "      <td>Yes, I will attend.</td>\n",
       "      <td>2.0</td>\n",
       "      <td>Staple foods, Snacks, Soda</td>\n",
       "      <td>no</td>\n",
       "      <td>stella@net.com</td>\n",
       "    </tr>\n",
       "    <tr>\n",
       "      <th>21</th>\n",
       "      <td>RYAN ATTICUS</td>\n",
       "      <td>Yes, I will attend.</td>\n",
       "      <td>1.0</td>\n",
       "      <td>NaN</td>\n",
       "      <td>no</td>\n",
       "      <td>ryatticus@gmail.com</td>\n",
       "    </tr>\n",
       "    <tr>\n",
       "      <th>22</th>\n",
       "      <td>AUGUSTINE</td>\n",
       "      <td>Yes, I will attend.</td>\n",
       "      <td>8.0</td>\n",
       "      <td>Staple foods, Mineral water, Other</td>\n",
       "      <td>yes</td>\n",
       "      <td>augustine@net.id</td>\n",
       "    </tr>\n",
       "    <tr>\n",
       "      <th>23</th>\n",
       "      <td>CHRIST</td>\n",
       "      <td>Yes, I will attend.</td>\n",
       "      <td>1.0</td>\n",
       "      <td>Staple foods, Other</td>\n",
       "      <td>no</td>\n",
       "      <td>christ@christ.net</td>\n",
       "    </tr>\n",
       "    <tr>\n",
       "      <th>24</th>\n",
       "      <td>MILO ADDINSON</td>\n",
       "      <td>Yes, I will attend.</td>\n",
       "      <td>2.0</td>\n",
       "      <td>NaN</td>\n",
       "      <td>no</td>\n",
       "      <td>maddinson@gmail.com</td>\n",
       "    </tr>\n",
       "    <tr>\n",
       "      <th>25</th>\n",
       "      <td>ISAAC ORION</td>\n",
       "      <td>Yes, I will attend.</td>\n",
       "      <td>3.0</td>\n",
       "      <td>NaN</td>\n",
       "      <td>no</td>\n",
       "      <td>isaaco97@gmail.com</td>\n",
       "    </tr>\n",
       "    <tr>\n",
       "      <th>26</th>\n",
       "      <td>WILLIAM NOVA</td>\n",
       "      <td>Yes, I will attend.</td>\n",
       "      <td>2.0</td>\n",
       "      <td>NaN</td>\n",
       "      <td>no</td>\n",
       "      <td>wnova11@gmail.com</td>\n",
       "    </tr>\n",
       "    <tr>\n",
       "      <th>27</th>\n",
       "      <td>ATTLAS PIPER</td>\n",
       "      <td>Yes, I will attend.</td>\n",
       "      <td>1.0</td>\n",
       "      <td>Other</td>\n",
       "      <td>no</td>\n",
       "      <td>apiper99@gmail.com</td>\n",
       "    </tr>\n",
       "  </tbody>\n",
       "</table>\n",
       "</div>"
      ],
      "text/plain": [
       "   What's your name?     Will you attend?  \\\n",
       "0          LEO PHYNO  Yes, I will attend.   \n",
       "1         KARINA VAN  Yes, I will attend.   \n",
       "2        TERRY LYANA  Yes, I will attend.   \n",
       "3             OLIVIA  Yes, I will attend.   \n",
       "4               EMMA  Yes, I will attend.   \n",
       "5           JOHN AVA  Yes, I will attend.   \n",
       "6        NOAH HARARY  Yes, I will attend.   \n",
       "7            WILLIAM  Yes, I will attend.   \n",
       "8     EMANUEL OLIVER  Yes, I will attend.   \n",
       "9         LIAM LOGAN  Yes, I will attend.   \n",
       "10         ASHER KAI  Yes, I will attend.   \n",
       "11        ETHAN LUCA  Yes, I will attend.   \n",
       "12    SCARLETT AVERY  Yes, I will attend.   \n",
       "13        JAMES OWEN  Yes, I will attend.   \n",
       "14      VIOLET QUINN  Yes, I will attend.   \n",
       "15     GABRIEL RILEY  Yes, I will attend.   \n",
       "16   BRIAR SEBASTIAN  Yes, I will attend.   \n",
       "17         ALEXANDRA  Yes, I will attend.   \n",
       "18            STEVEN  Yes, I will attend.   \n",
       "19        FELIX EDEN  Yes, I will attend.   \n",
       "20            STELLA  Yes, I will attend.   \n",
       "21      RYAN ATTICUS  Yes, I will attend.   \n",
       "22         AUGUSTINE  Yes, I will attend.   \n",
       "23            CHRIST  Yes, I will attend.   \n",
       "24     MILO ADDINSON  Yes, I will attend.   \n",
       "25       ISAAC ORION  Yes, I will attend.   \n",
       "26      WILLIAM NOVA  Yes, I will attend.   \n",
       "27      ATTLAS PIPER  Yes, I will attend.   \n",
       "\n",
       "    How many people will come with you?  \\\n",
       "0                                   1.0   \n",
       "1                                   3.0   \n",
       "2                                   1.0   \n",
       "3                                   0.0   \n",
       "4                                   1.0   \n",
       "5                                   4.0   \n",
       "6                                   1.0   \n",
       "7                                   4.0   \n",
       "8                                   5.0   \n",
       "9                                   5.0   \n",
       "10                                  0.0   \n",
       "11                                  5.0   \n",
       "12                                  1.0   \n",
       "13                                  3.0   \n",
       "14                                  1.0   \n",
       "15                                  3.0   \n",
       "16                                  2.0   \n",
       "17                                  4.0   \n",
       "18                                  2.0   \n",
       "19                                  7.0   \n",
       "20                                  2.0   \n",
       "21                                  1.0   \n",
       "22                                  8.0   \n",
       "23                                  1.0   \n",
       "24                                  2.0   \n",
       "25                                  3.0   \n",
       "26                                  2.0   \n",
       "27                                  1.0   \n",
       "\n",
       "                       What will you bring? Do you have any disease?  \\\n",
       "0                             Mineral water                       no   \n",
       "1               Snacks, Mineral water, Soda                 yes, flu   \n",
       "2                                      Soda                       no   \n",
       "3                             Mineral water                       no   \n",
       "4                              Snacks, Soda                       no   \n",
       "5   Junk foods, Snacks, Mineral water, Soda                       no   \n",
       "6                     Snacks, Mineral water                       no   \n",
       "7                                       NaN                       no   \n",
       "8                                       NaN                       no   \n",
       "9                                       NaN                       no   \n",
       "10                                      NaN                       no   \n",
       "11                                      NaN                       no   \n",
       "12                            Mineral water                       no   \n",
       "13                                      NaN                       no   \n",
       "14                                      NaN                       no   \n",
       "15                                      NaN                       no   \n",
       "16                                     Soda                       no   \n",
       "17                     Staple foods, Snacks                      yes   \n",
       "18                Junk foods, Mineral water                       no   \n",
       "19                                      NaN                       no   \n",
       "20               Staple foods, Snacks, Soda                       no   \n",
       "21                                      NaN                       no   \n",
       "22       Staple foods, Mineral water, Other                      yes   \n",
       "23                      Staple foods, Other                       no   \n",
       "24                                      NaN                       no   \n",
       "25                                      NaN                       no   \n",
       "26                                      NaN                       no   \n",
       "27                                    Other                       no   \n",
       "\n",
       "      What is your email?  \n",
       "0       phynoal@gmail.com  \n",
       "1       van3397@gmail.com  \n",
       "2     lylyana09@gmail.com  \n",
       "3      ololiiva@gmail.com  \n",
       "4        emmmaa@gmail.com  \n",
       "5     avavajohn@gmail.com  \n",
       "6       harnoah@gmail.com  \n",
       "7     wilwil331@gmail.com  \n",
       "8     oliverema@gmail.com  \n",
       "9      loganlog@gmail.com  \n",
       "10         akai@gmail.com  \n",
       "11  lukaethan02@gmail.com  \n",
       "12    scarletta@gmail.com  \n",
       "13        ownnj@gmail.com  \n",
       "14     quinnvio@gmail.com  \n",
       "15   rilgabriel@gmail.com  \n",
       "16   bsebastian@gmail.com  \n",
       "17    alexandra@gmail.com  \n",
       "18      steven@steven.com  \n",
       "19        feden@gmail.com  \n",
       "20         stella@net.com  \n",
       "21    ryatticus@gmail.com  \n",
       "22       augustine@net.id  \n",
       "23      christ@christ.net  \n",
       "24    maddinson@gmail.com  \n",
       "25     isaaco97@gmail.com  \n",
       "26      wnova11@gmail.com  \n",
       "27     apiper99@gmail.com  "
      ]
     },
     "execution_count": 17,
     "metadata": {},
     "output_type": "execute_result"
    }
   ],
   "source": [
    "index_names = data[data[\"Will you attend?\"] == \"Sorry, I will not attend.\" ].index\n",
    "\n",
    "data.drop(index_names, inplace = True)\n",
    "data.reset_index(drop=True, inplace=True)\n",
    "# df = data\n",
    "df = data\n",
    "df\n",
    "# data[\"Will you attend?\"].value_counts()"
   ]
  },
  {
   "cell_type": "code",
   "execution_count": 18,
   "id": "107a8ffd-5fe8-4293-b3c5-72958ee42b6d",
   "metadata": {},
   "outputs": [],
   "source": [
    "# df.info()"
   ]
  },
  {
   "cell_type": "markdown",
   "id": "48034374-bfe8-4943-a4aa-95ace986a9b0",
   "metadata": {},
   "source": [
    "### Nan Value"
   ]
  },
  {
   "cell_type": "code",
   "execution_count": 19,
   "id": "386be616-79a6-453a-a925-51b9a7cae39e",
   "metadata": {},
   "outputs": [
    {
     "data": {
      "text/plain": [
       "0"
      ]
     },
     "execution_count": 19,
     "metadata": {},
     "output_type": "execute_result"
    }
   ],
   "source": [
    "# ceck nan value\n",
    "df[\"How many people will come with you?\"].isna().sum()"
   ]
  },
  {
   "cell_type": "markdown",
   "id": "7111d2f9-0d48-442d-923b-fee4b6477118",
   "metadata": {},
   "source": [
    "### Replace Nan Value"
   ]
  },
  {
   "cell_type": "code",
   "execution_count": 20,
   "id": "69375a97-5d01-479a-bd78-9f5a3068b489",
   "metadata": {},
   "outputs": [],
   "source": [
    "# replace nan value\n",
    "df[\"How many people will come with you?\"] = df[\"How many people will come with you?\"].fillna(0)\n",
    "\n",
    "# convert to integer\n",
    "df[\"How many people will come with you?\"] = df[\"How many people will come with you?\"].astype(int)"
   ]
  },
  {
   "cell_type": "markdown",
   "id": "35e3ceb3-65ce-4af1-9284-0f57d726716f",
   "metadata": {},
   "source": [
    "### Value Counts"
   ]
  },
  {
   "cell_type": "code",
   "execution_count": 21,
   "id": "90f1b96a-18e6-49b8-85ff-7cd6e47926fe",
   "metadata": {},
   "outputs": [
    {
     "data": {
      "text/plain": [
       "1    9\n",
       "2    5\n",
       "3    4\n",
       "4    3\n",
       "5    3\n",
       "0    2\n",
       "7    1\n",
       "8    1\n",
       "Name: How many people will come with you?, dtype: int64"
      ]
     },
     "execution_count": 21,
     "metadata": {},
     "output_type": "execute_result"
    }
   ],
   "source": [
    "df[\"How many people will come with you?\"].value_counts()"
   ]
  },
  {
   "cell_type": "markdown",
   "id": "af8f5bfb-30a0-4366-9e08-a0d12ace1a2c",
   "metadata": {},
   "source": [
    "### How many visitors?"
   ]
  },
  {
   "cell_type": "code",
   "execution_count": 22,
   "id": "87758e80-2fab-4554-ade2-bdac5aaca3d5",
   "metadata": {},
   "outputs": [
    {
     "data": {
      "text/plain": [
       "28"
      ]
     },
     "execution_count": 22,
     "metadata": {},
     "output_type": "execute_result"
    }
   ],
   "source": [
    "# Invited Visitors\n",
    "iv = len(df)\n",
    "iv"
   ]
  },
  {
   "cell_type": "code",
   "execution_count": 23,
   "id": "c7eb2fed-fc95-4306-a0f6-8e9042622ecd",
   "metadata": {},
   "outputs": [
    {
     "data": {
      "text/plain": [
       "73"
      ]
     },
     "execution_count": 23,
     "metadata": {},
     "output_type": "execute_result"
    }
   ],
   "source": [
    "# Uninvited Visitors\n",
    "uv = sum(df[\"How many people will come with you?\"])\n",
    "uv"
   ]
  },
  {
   "cell_type": "code",
   "execution_count": 24,
   "id": "e8eb721a-5292-4aef-8756-230b138e2a71",
   "metadata": {},
   "outputs": [
    {
     "data": {
      "text/plain": [
       "101"
      ]
     },
     "execution_count": 24,
     "metadata": {},
     "output_type": "execute_result"
    }
   ],
   "source": [
    "# total number of visitors\n",
    "tnv = iv+uv\n",
    "tnv"
   ]
  },
  {
   "cell_type": "markdown",
   "id": "8d6f3dff-a9c6-4f89-b9e5-042b4dfed462",
   "metadata": {},
   "source": [
    "### Function : manpeop"
   ]
  },
  {
   "cell_type": "code",
   "execution_count": 25,
   "id": "314c087f-ebab-42bc-9887-3b28a26e3a14",
   "metadata": {},
   "outputs": [
    {
     "data": {
      "image/png": "[encoded data removed]",
      "text/plain": [
       "<Figure size 432x288 with 1 Axes>"
      ]
     },
     "metadata": {},
     "output_type": "display_data"
    },
    {
     "name": "stdout",
     "output_type": "stream",
     "text": [
      "Visitors\n",
      "   IV  UV  Total\n",
      "0  28  73    101\n"
     ]
    }
   ],
   "source": [
    "def manpeop():\n",
    "    visitors = df[\"How many people will come with you?\"].value_counts().rename_axis('How many people will come with you?').reset_index(name='count')\n",
    "#     print(pengunjung)\n",
    "#     print(pengunjung['count'])\n",
    "\n",
    "\n",
    "    x = visitors[\"How many people will come with you?\"]\n",
    "    y = visitors['count']\n",
    "    a = len(visitors[\"How many people will come with you?\"])\n",
    "    exp = y/30\n",
    "\n",
    "    plt.title(\"Visitors\")\n",
    "    plt.pie(y, labels = x, startangle = 180,\n",
    "            explode=exp, shadow = True,\n",
    "           autopct = '%1.2f%%')\n",
    "    plt.show()\n",
    "    \n",
    "    visitors = {\n",
    "        'IV' : [iv],\n",
    "        'UV' : [uv],\n",
    "        'Total' : [tnv]\n",
    "    }\n",
    "\n",
    "    visitors = pd.DataFrame(visitors)\n",
    "    print(\"Visitors\")\n",
    "    print(visitors)\n",
    "manpeop()"
   ]
  },
  {
   "cell_type": "markdown",
   "id": "27baff57-4a28-4c62-ae9d-792ecf8a55e9",
   "metadata": {},
   "source": [
    "## What will you bring?"
   ]
  },
  {
   "cell_type": "markdown",
   "id": "e2178c54-ec83-4b13-8c7b-d1f16234db59",
   "metadata": {},
   "source": [
    "### Nan Value"
   ]
  },
  {
   "cell_type": "code",
   "execution_count": 26,
   "id": "5ab6b203-9453-42ba-af5f-789521dd45e5",
   "metadata": {},
   "outputs": [
    {
     "data": {
      "text/plain": [
       "13"
      ]
     },
     "execution_count": 26,
     "metadata": {},
     "output_type": "execute_result"
    }
   ],
   "source": [
    "df[\"What will you bring?\"].isna().sum()"
   ]
  },
  {
   "cell_type": "markdown",
   "id": "90fb4d29-a63a-452e-aa82-ddfa5daf5adc",
   "metadata": {},
   "source": [
    "### Replace Nan Value"
   ]
  },
  {
   "cell_type": "code",
   "execution_count": 27,
   "id": "09597407-f1f9-4cf0-a68c-2b36748d79a0",
   "metadata": {},
   "outputs": [],
   "source": [
    "df[\"What will you bring?\"] = df[\"What will you bring?\"].fillna('no')"
   ]
  },
  {
   "cell_type": "code",
   "execution_count": 28,
   "id": "09862bd0-9f62-4fb0-8314-71f73639884a",
   "metadata": {},
   "outputs": [
    {
     "data": {
      "text/plain": [
       "0                               Mineral water\n",
       "1                 Snacks, Mineral water, Soda\n",
       "2                                        Soda\n",
       "3                               Mineral water\n",
       "4                                Snacks, Soda\n",
       "5     Junk foods, Snacks, Mineral water, Soda\n",
       "6                       Snacks, Mineral water\n",
       "7                                          no\n",
       "8                                          no\n",
       "9                                          no\n",
       "10                                         no\n",
       "11                                         no\n",
       "12                              Mineral water\n",
       "13                                         no\n",
       "14                                         no\n",
       "15                                         no\n",
       "16                                       Soda\n",
       "17                       Staple foods, Snacks\n",
       "18                  Junk foods, Mineral water\n",
       "19                                         no\n",
       "20                 Staple foods, Snacks, Soda\n",
       "21                                         no\n",
       "22         Staple foods, Mineral water, Other\n",
       "23                        Staple foods, Other\n",
       "24                                         no\n",
       "25                                         no\n",
       "26                                         no\n",
       "27                                      Other\n",
       "Name: What will you bring?, dtype: object"
      ]
     },
     "execution_count": 28,
     "metadata": {},
     "output_type": "execute_result"
    }
   ],
   "source": [
    "df[\"What will you bring?\"]"
   ]
  },
  {
   "cell_type": "markdown",
   "id": "3b889aee-227c-4b25-9d43-542e5c133847",
   "metadata": {},
   "source": [
    "### Value counts"
   ]
  },
  {
   "cell_type": "code",
   "execution_count": 29,
   "id": "7c0647bd-a851-4f11-91ab-b9f78972dfc7",
   "metadata": {},
   "outputs": [
    {
     "data": {
      "text/plain": [
       "no                                         13\n",
       "Mineral water                               3\n",
       "Soda                                        2\n",
       "Snacks, Mineral water, Soda                 1\n",
       "Snacks, Soda                                1\n",
       "Junk foods, Snacks, Mineral water, Soda     1\n",
       "Snacks, Mineral water                       1\n",
       "Staple foods, Snacks                        1\n",
       "Junk foods, Mineral water                   1\n",
       "Staple foods, Snacks, Soda                  1\n",
       "Staple foods, Mineral water, Other          1\n",
       "Staple foods, Other                         1\n",
       "Other                                       1\n",
       "Name: What will you bring?, dtype: int64"
      ]
     },
     "execution_count": 29,
     "metadata": {},
     "output_type": "execute_result"
    }
   ],
   "source": [
    "df[\"What will you bring?\"].value_counts()"
   ]
  },
  {
   "cell_type": "markdown",
   "id": "341a9774-2a9f-4dd3-bedc-876a8245516a",
   "metadata": {},
   "source": [
    "### Staple foods"
   ]
  },
  {
   "cell_type": "code",
   "execution_count": 30,
   "id": "e1c6a2d6-a6d9-4ecb-80b5-f9a63cf55bd9",
   "metadata": {},
   "outputs": [
    {
     "data": {
      "text/plain": [
       "4"
      ]
     },
     "execution_count": 30,
     "metadata": {},
     "output_type": "execute_result"
    }
   ],
   "source": [
    "rows = []\n",
    "for i in df['What will you bring?']:\n",
    "    if \"Staple foods\" in i:\n",
    "        i = 1\n",
    "    elif i != 1:\n",
    "        i = 0\n",
    "    rows.append([i])\n",
    "stf = pd.DataFrame(rows, columns=['Staple foods'])\n",
    "# mw.head()\n",
    "cstf = sum(stf['Staple foods'])\n",
    "cstf"
   ]
  },
  {
   "cell_type": "markdown",
   "id": "2a80cbd9-c5c6-43fd-9b59-c9ef41a872f2",
   "metadata": {},
   "source": [
    "### Junk foods"
   ]
  },
  {
   "cell_type": "code",
   "execution_count": 31,
   "id": "599afcdf-017a-4a04-8d03-7f1778593a4b",
   "metadata": {},
   "outputs": [
    {
     "data": {
      "text/plain": [
       "2"
      ]
     },
     "execution_count": 31,
     "metadata": {},
     "output_type": "execute_result"
    }
   ],
   "source": [
    "rows = []\n",
    "for i in df['What will you bring?']:\n",
    "    if \"Junk foods\" in i:\n",
    "        i = 1\n",
    "    elif i != 1:\n",
    "        i = 0\n",
    "    rows.append([i])\n",
    "jf = pd.DataFrame(rows, columns=['Junk foods'])\n",
    "# mw.head()\n",
    "cjf = sum(jf['Junk foods'])\n",
    "cjf"
   ]
  },
  {
   "cell_type": "markdown",
   "id": "bdd9f7d4-e02d-466e-9350-ed3ffbdbb510",
   "metadata": {},
   "source": [
    "### Snacks"
   ]
  },
  {
   "cell_type": "code",
   "execution_count": 32,
   "id": "00d743e1-f216-41f9-baf2-6fed011712c6",
   "metadata": {},
   "outputs": [
    {
     "data": {
      "text/plain": [
       "6"
      ]
     },
     "execution_count": 32,
     "metadata": {},
     "output_type": "execute_result"
    }
   ],
   "source": [
    "rows = []\n",
    "for i in df['What will you bring?']:\n",
    "    if \"Snacks\" in i:\n",
    "        i = 1\n",
    "    elif i != 1:\n",
    "        i = 0\n",
    "    rows.append([i])\n",
    "sn = pd.DataFrame(rows, columns=['Snacks'])\n",
    "# mw.head()\n",
    "csn = sum(sn['Snacks'])\n",
    "csn"
   ]
  },
  {
   "cell_type": "markdown",
   "id": "d6281286-4a0e-496f-a0a2-a3a85f8cf559",
   "metadata": {},
   "source": [
    "###  Mineral water"
   ]
  },
  {
   "cell_type": "code",
   "execution_count": 33,
   "id": "f7498977-5607-402f-bfe9-3a657be038b1",
   "metadata": {},
   "outputs": [
    {
     "data": {
      "text/plain": [
       "8"
      ]
     },
     "execution_count": 33,
     "metadata": {},
     "output_type": "execute_result"
    }
   ],
   "source": [
    "rows = []\n",
    "for i in df['What will you bring?']:\n",
    "    if \"Mineral water\" in i:\n",
    "        i = 1\n",
    "    elif i != 1:\n",
    "        i = 0\n",
    "    rows.append([i])\n",
    "mw = pd.DataFrame(rows, columns=['Mineral water'])\n",
    "# mw.head()\n",
    "cmw = sum(mw['Mineral water'])\n",
    "cmw\n",
    "# mw"
   ]
  },
  {
   "cell_type": "markdown",
   "id": "2f722c43-dd4b-4330-9290-4d4e7ded8397",
   "metadata": {},
   "source": [
    "### Soda"
   ]
  },
  {
   "cell_type": "code",
   "execution_count": 34,
   "id": "02f6957c-06ad-4b47-97a5-d326b33fd10b",
   "metadata": {},
   "outputs": [
    {
     "data": {
      "text/plain": [
       "6"
      ]
     },
     "execution_count": 34,
     "metadata": {},
     "output_type": "execute_result"
    }
   ],
   "source": [
    "rows = []\n",
    "for i in df['What will you bring?']:\n",
    "    if \"Soda\" in i:\n",
    "        i = 1\n",
    "    elif i != 1:\n",
    "        i = 0\n",
    "    rows.append([i])\n",
    "sda = pd.DataFrame(rows, columns=['Soda'])\n",
    "# mw.head()\n",
    "csda = sum(sda['Soda'])\n",
    "csda"
   ]
  },
  {
   "cell_type": "markdown",
   "id": "7feeb393-460d-48c7-a3ce-6e460de9eceb",
   "metadata": {},
   "source": [
    "### Other"
   ]
  },
  {
   "cell_type": "code",
   "execution_count": 35,
   "id": "d56c7b1b-9592-4515-b8bb-03ee569cd5b4",
   "metadata": {},
   "outputs": [
    {
     "data": {
      "text/plain": [
       "3"
      ]
     },
     "execution_count": 35,
     "metadata": {},
     "output_type": "execute_result"
    }
   ],
   "source": [
    "rows = []\n",
    "for i in df['What will you bring?']:\n",
    "    if \"Other\" in i:\n",
    "        i = 1\n",
    "    elif i != 1:\n",
    "        i = 0\n",
    "    rows.append([i])\n",
    "oth = pd.DataFrame(rows, columns=['Other'])\n",
    "# mw.head()\n",
    "coth = sum(oth['Other'])\n",
    "coth\n",
    "# oth"
   ]
  },
  {
   "cell_type": "markdown",
   "id": "3d139234-75f0-4bca-b7bb-f241a7528b6d",
   "metadata": {},
   "source": [
    "### No"
   ]
  },
  {
   "cell_type": "code",
   "execution_count": 36,
   "id": "2ef3562d-20ab-472f-bbf4-7b0f609a48fc",
   "metadata": {},
   "outputs": [
    {
     "data": {
      "text/plain": [
       "13"
      ]
     },
     "execution_count": 36,
     "metadata": {},
     "output_type": "execute_result"
    }
   ],
   "source": [
    "rows = []\n",
    "for i in df['What will you bring?']:\n",
    "    if \"no\" in i:\n",
    "        i = 1\n",
    "    elif i != 1:\n",
    "        i = 0\n",
    "    rows.append([i])\n",
    "nono = pd.DataFrame(rows, columns=['No'])\n",
    "nnn = sum(nono['No'])\n",
    "nnn\n",
    "# nono"
   ]
  },
  {
   "cell_type": "markdown",
   "id": "b3d0368e-6eed-4471-bad0-485b7be7b5e9",
   "metadata": {},
   "source": [
    "### Create new columns"
   ]
  },
  {
   "cell_type": "code",
   "execution_count": 37,
   "id": "9e64eeec-a1cf-4972-8cac-2783796c744c",
   "metadata": {},
   "outputs": [
    {
     "name": "stdout",
     "output_type": "stream",
     "text": [
      "<class 'pandas.core.frame.DataFrame'>\n",
      "RangeIndex: 28 entries, 0 to 27\n",
      "Data columns (total 13 columns):\n",
      " #   Column                               Non-Null Count  Dtype \n",
      "---  ------                               --------------  ----- \n",
      " 0   What's your name?                    28 non-null     object\n",
      " 1   Will you attend?                     28 non-null     object\n",
      " 2   How many people will come with you?  28 non-null     int32 \n",
      " 3   What will you bring?                 28 non-null     object\n",
      " 4   Do you have any disease?             28 non-null     object\n",
      " 5   What is your email?                  28 non-null     object\n",
      " 6   stf                                  28 non-null     int64 \n",
      " 7   jf                                   28 non-null     int64 \n",
      " 8   sn                                   28 non-null     int64 \n",
      " 9   mw                                   28 non-null     int64 \n",
      " 10  sda                                  28 non-null     int64 \n",
      " 11  oth                                  28 non-null     int64 \n",
      " 12  No                                   28 non-null     int64 \n",
      "dtypes: int32(1), int64(7), object(5)\n",
      "memory usage: 2.9+ KB\n"
     ]
    }
   ],
   "source": [
    "df['stf'] = stf\n",
    "df['jf'] = jf\n",
    "df['sn'] = sn\n",
    "df['mw'] = mw\n",
    "df['sda'] = sda\n",
    "df['oth'] = oth\n",
    "df['No'] = nono\n",
    "\n",
    "df.info()"
   ]
  },
  {
   "cell_type": "markdown",
   "id": "fa2ddbd0-fc4e-4857-9c9d-b1b431cb3392",
   "metadata": {},
   "source": [
    "### Select columns - Concatenate (join table)"
   ]
  },
  {
   "cell_type": "code",
   "execution_count": 38,
   "id": "c439086a-62e8-4362-a633-07c358a09c0f",
   "metadata": {},
   "outputs": [
    {
     "data": {
      "text/html": [
       "<div>\n",
       "<style scoped>\n",
       "    .dataframe tbody tr th:only-of-type {\n",
       "        vertical-align: middle;\n",
       "    }\n",
       "\n",
       "    .dataframe tbody tr th {\n",
       "        vertical-align: top;\n",
       "    }\n",
       "\n",
       "    .dataframe thead th {\n",
       "        text-align: right;\n",
       "    }\n",
       "</style>\n",
       "<table border=\"1\" class=\"dataframe\">\n",
       "  <thead>\n",
       "    <tr style=\"text-align: right;\">\n",
       "      <th></th>\n",
       "      <th>What will you bring?</th>\n",
       "      <th>stf</th>\n",
       "      <th>jf</th>\n",
       "      <th>sn</th>\n",
       "      <th>mw</th>\n",
       "      <th>sda</th>\n",
       "      <th>oth</th>\n",
       "      <th>No</th>\n",
       "    </tr>\n",
       "  </thead>\n",
       "  <tbody>\n",
       "    <tr>\n",
       "      <th>0</th>\n",
       "      <td>Mineral water</td>\n",
       "      <td>0</td>\n",
       "      <td>0</td>\n",
       "      <td>0</td>\n",
       "      <td>1</td>\n",
       "      <td>0</td>\n",
       "      <td>0</td>\n",
       "      <td>0</td>\n",
       "    </tr>\n",
       "    <tr>\n",
       "      <th>1</th>\n",
       "      <td>Snacks, Mineral water, Soda</td>\n",
       "      <td>0</td>\n",
       "      <td>0</td>\n",
       "      <td>1</td>\n",
       "      <td>1</td>\n",
       "      <td>1</td>\n",
       "      <td>0</td>\n",
       "      <td>0</td>\n",
       "    </tr>\n",
       "    <tr>\n",
       "      <th>2</th>\n",
       "      <td>Soda</td>\n",
       "      <td>0</td>\n",
       "      <td>0</td>\n",
       "      <td>0</td>\n",
       "      <td>0</td>\n",
       "      <td>1</td>\n",
       "      <td>0</td>\n",
       "      <td>0</td>\n",
       "    </tr>\n",
       "    <tr>\n",
       "      <th>3</th>\n",
       "      <td>Mineral water</td>\n",
       "      <td>0</td>\n",
       "      <td>0</td>\n",
       "      <td>0</td>\n",
       "      <td>1</td>\n",
       "      <td>0</td>\n",
       "      <td>0</td>\n",
       "      <td>0</td>\n",
       "    </tr>\n",
       "    <tr>\n",
       "      <th>4</th>\n",
       "      <td>Snacks, Soda</td>\n",
       "      <td>0</td>\n",
       "      <td>0</td>\n",
       "      <td>1</td>\n",
       "      <td>0</td>\n",
       "      <td>1</td>\n",
       "      <td>0</td>\n",
       "      <td>0</td>\n",
       "    </tr>\n",
       "  </tbody>\n",
       "</table>\n",
       "</div>"
      ],
      "text/plain": [
       "          What will you bring?  stf  jf  sn  mw  sda  oth  No\n",
       "0                Mineral water    0   0   0   1    0    0   0\n",
       "1  Snacks, Mineral water, Soda    0   0   1   1    1    0   0\n",
       "2                         Soda    0   0   0   0    1    0   0\n",
       "3                Mineral water    0   0   0   1    0    0   0\n",
       "4                 Snacks, Soda    0   0   1   0    1    0   0"
      ]
     },
     "execution_count": 38,
     "metadata": {},
     "output_type": "execute_result"
    }
   ],
   "source": [
    "wwyb = pd.concat([df['What will you bring?'],\n",
    "                  df['stf'],df['jf'],\n",
    "                  df['sn'],df['mw'],\n",
    "                  df['sda'],df['oth'],\n",
    "                  df['No']], axis=1)\n",
    "wwyb.head()"
   ]
  },
  {
   "cell_type": "markdown",
   "id": "ce146282-56df-4e1d-bf59-098bc57bc0d8",
   "metadata": {},
   "source": [
    "### Function : brg"
   ]
  },
  {
   "cell_type": "code",
   "execution_count": 39,
   "id": "2af44d49-63a5-4d8c-9a84-cddfce801e2c",
   "metadata": {},
   "outputs": [
    {
     "data": {
      "image/png": "[encoded data removed]",
      "text/plain": [
       "<Figure size 432x288 with 1 Axes>"
      ]
     },
     "metadata": {
      "needs_background": "light"
     },
     "output_type": "display_data"
    }
   ],
   "source": [
    "def brg():\n",
    "    a,b,c,d,e,f,g = sum(wwyb['stf']),sum(wwyb['jf']),sum(wwyb['sn']),sum(wwyb['mw']),sum(wwyb['sda']),sum(wwyb['oth']),sum(wwyb['No'])\n",
    "\n",
    "    index = ['What will you bring?']\n",
    "\n",
    "    df = pd.DataFrame({\n",
    "        \"Staple Foods, %d\" % (a) : a,\n",
    "        'Junk Foods, %d' % (b) : b,\n",
    "        'Snack, %d' % (c) : c,\n",
    "        'Mineral Water, %d' % (d) : d,\n",
    "        'Soda, %d' % (e) : e,\n",
    "        'Other, %d' % (f) : f,\n",
    "        'No, %d' % (g) : g,\n",
    "    },\n",
    "        index=index)\n",
    "\n",
    "    ax = df.plot.bar(rot=0)\n",
    "brg()"
   ]
  },
  {
   "cell_type": "code",
   "execution_count": 40,
   "id": "82cb67ad-b0ae-4371-bc48-aa1acc95d506",
   "metadata": {},
   "outputs": [
    {
     "data": {
      "text/html": [
       "<div>\n",
       "<style scoped>\n",
       "    .dataframe tbody tr th:only-of-type {\n",
       "        vertical-align: middle;\n",
       "    }\n",
       "\n",
       "    .dataframe tbody tr th {\n",
       "        vertical-align: top;\n",
       "    }\n",
       "\n",
       "    .dataframe thead th {\n",
       "        text-align: right;\n",
       "    }\n",
       "</style>\n",
       "<table border=\"1\" class=\"dataframe\">\n",
       "  <thead>\n",
       "    <tr style=\"text-align: right;\">\n",
       "      <th></th>\n",
       "      <th>What's your name?</th>\n",
       "      <th>Will you attend?</th>\n",
       "      <th>How many people will come with you?</th>\n",
       "      <th>What will you bring?</th>\n",
       "      <th>Do you have any disease?</th>\n",
       "      <th>What is your email?</th>\n",
       "      <th>stf</th>\n",
       "      <th>jf</th>\n",
       "      <th>sn</th>\n",
       "      <th>mw</th>\n",
       "      <th>sda</th>\n",
       "      <th>oth</th>\n",
       "      <th>No</th>\n",
       "    </tr>\n",
       "  </thead>\n",
       "  <tbody>\n",
       "    <tr>\n",
       "      <th>0</th>\n",
       "      <td>LEO PHYNO</td>\n",
       "      <td>Yes, I will attend.</td>\n",
       "      <td>1</td>\n",
       "      <td>Mineral water</td>\n",
       "      <td>no</td>\n",
       "      <td>phynoal@gmail.com</td>\n",
       "      <td>0</td>\n",
       "      <td>0</td>\n",
       "      <td>0</td>\n",
       "      <td>1</td>\n",
       "      <td>0</td>\n",
       "      <td>0</td>\n",
       "      <td>0</td>\n",
       "    </tr>\n",
       "    <tr>\n",
       "      <th>1</th>\n",
       "      <td>KARINA VAN</td>\n",
       "      <td>Yes, I will attend.</td>\n",
       "      <td>3</td>\n",
       "      <td>Snacks, Mineral water, Soda</td>\n",
       "      <td>yes, flu</td>\n",
       "      <td>van3397@gmail.com</td>\n",
       "      <td>0</td>\n",
       "      <td>0</td>\n",
       "      <td>1</td>\n",
       "      <td>1</td>\n",
       "      <td>1</td>\n",
       "      <td>0</td>\n",
       "      <td>0</td>\n",
       "    </tr>\n",
       "    <tr>\n",
       "      <th>2</th>\n",
       "      <td>TERRY LYANA</td>\n",
       "      <td>Yes, I will attend.</td>\n",
       "      <td>1</td>\n",
       "      <td>Soda</td>\n",
       "      <td>no</td>\n",
       "      <td>lylyana09@gmail.com</td>\n",
       "      <td>0</td>\n",
       "      <td>0</td>\n",
       "      <td>0</td>\n",
       "      <td>0</td>\n",
       "      <td>1</td>\n",
       "      <td>0</td>\n",
       "      <td>0</td>\n",
       "    </tr>\n",
       "    <tr>\n",
       "      <th>3</th>\n",
       "      <td>OLIVIA</td>\n",
       "      <td>Yes, I will attend.</td>\n",
       "      <td>0</td>\n",
       "      <td>Mineral water</td>\n",
       "      <td>no</td>\n",
       "      <td>ololiiva@gmail.com</td>\n",
       "      <td>0</td>\n",
       "      <td>0</td>\n",
       "      <td>0</td>\n",
       "      <td>1</td>\n",
       "      <td>0</td>\n",
       "      <td>0</td>\n",
       "      <td>0</td>\n",
       "    </tr>\n",
       "    <tr>\n",
       "      <th>4</th>\n",
       "      <td>EMMA</td>\n",
       "      <td>Yes, I will attend.</td>\n",
       "      <td>1</td>\n",
       "      <td>Snacks, Soda</td>\n",
       "      <td>no</td>\n",
       "      <td>emmmaa@gmail.com</td>\n",
       "      <td>0</td>\n",
       "      <td>0</td>\n",
       "      <td>1</td>\n",
       "      <td>0</td>\n",
       "      <td>1</td>\n",
       "      <td>0</td>\n",
       "      <td>0</td>\n",
       "    </tr>\n",
       "  </tbody>\n",
       "</table>\n",
       "</div>"
      ],
      "text/plain": [
       "  What's your name?     Will you attend?  How many people will come with you?  \\\n",
       "0         LEO PHYNO  Yes, I will attend.                                    1   \n",
       "1        KARINA VAN  Yes, I will attend.                                    3   \n",
       "2       TERRY LYANA  Yes, I will attend.                                    1   \n",
       "3            OLIVIA  Yes, I will attend.                                    0   \n",
       "4              EMMA  Yes, I will attend.                                    1   \n",
       "\n",
       "          What will you bring? Do you have any disease?  What is your email?  \\\n",
       "0                Mineral water                       no    phynoal@gmail.com   \n",
       "1  Snacks, Mineral water, Soda                 yes, flu    van3397@gmail.com   \n",
       "2                         Soda                       no  lylyana09@gmail.com   \n",
       "3                Mineral water                       no   ololiiva@gmail.com   \n",
       "4                 Snacks, Soda                       no     emmmaa@gmail.com   \n",
       "\n",
       "   stf  jf  sn  mw  sda  oth  No  \n",
       "0    0   0   0   1    0    0   0  \n",
       "1    0   0   1   1    1    0   0  \n",
       "2    0   0   0   0    1    0   0  \n",
       "3    0   0   0   1    0    0   0  \n",
       "4    0   0   1   0    1    0   0  "
      ]
     },
     "execution_count": 40,
     "metadata": {},
     "output_type": "execute_result"
    }
   ],
   "source": [
    "df.head()"
   ]
  },
  {
   "cell_type": "markdown",
   "id": "7723e65f-722b-45df-bd90-1d6ebf8e4a61",
   "metadata": {},
   "source": [
    "## Do you have any disease?"
   ]
  },
  {
   "cell_type": "markdown",
   "id": "6c13923b-f7a5-4ac1-8770-887cffd42b2f",
   "metadata": {},
   "source": [
    "### Value counts"
   ]
  },
  {
   "cell_type": "code",
   "execution_count": 41,
   "id": "5027731e-5d8f-42b0-b154-cc5230a07460",
   "metadata": {},
   "outputs": [
    {
     "data": {
      "text/plain": [
       "no          25\n",
       "yes          2\n",
       "yes, flu     1\n",
       "Name: Do you have any disease?, dtype: int64"
      ]
     },
     "execution_count": 41,
     "metadata": {},
     "output_type": "execute_result"
    }
   ],
   "source": [
    "df['Do you have any disease?'].value_counts()"
   ]
  },
  {
   "cell_type": "markdown",
   "id": "27a1ede8-ea23-4ac4-9f5a-79be03bc4cb7",
   "metadata": {},
   "source": [
    "### Replace"
   ]
  },
  {
   "cell_type": "code",
   "execution_count": 42,
   "id": "99406b8d-5411-459c-b154-96cb613ce41b",
   "metadata": {},
   "outputs": [],
   "source": [
    "df['Do you have any disease?'].replace(\"yes, flu\", \"yes\", inplace=True)"
   ]
  },
  {
   "cell_type": "markdown",
   "id": "17a083ff-24c9-4c3a-abe8-b74fc22f7830",
   "metadata": {},
   "source": [
    "### Value counts to dataframe"
   ]
  },
  {
   "cell_type": "code",
   "execution_count": 43,
   "id": "dc86830c-d27a-400f-a4e9-df9266818da0",
   "metadata": {},
   "outputs": [
    {
     "data": {
      "text/html": [
       "<div>\n",
       "<style scoped>\n",
       "    .dataframe tbody tr th:only-of-type {\n",
       "        vertical-align: middle;\n",
       "    }\n",
       "\n",
       "    .dataframe tbody tr th {\n",
       "        vertical-align: top;\n",
       "    }\n",
       "\n",
       "    .dataframe thead th {\n",
       "        text-align: right;\n",
       "    }\n",
       "</style>\n",
       "<table border=\"1\" class=\"dataframe\">\n",
       "  <thead>\n",
       "    <tr style=\"text-align: right;\">\n",
       "      <th></th>\n",
       "      <th>A</th>\n",
       "      <th>B</th>\n",
       "    </tr>\n",
       "  </thead>\n",
       "  <tbody>\n",
       "    <tr>\n",
       "      <th>0</th>\n",
       "      <td>no</td>\n",
       "      <td>25</td>\n",
       "    </tr>\n",
       "    <tr>\n",
       "      <th>1</th>\n",
       "      <td>yes</td>\n",
       "      <td>3</td>\n",
       "    </tr>\n",
       "  </tbody>\n",
       "</table>\n",
       "</div>"
      ],
      "text/plain": [
       "     A   B\n",
       "0   no  25\n",
       "1  yes   3"
      ]
     },
     "execution_count": 43,
     "metadata": {},
     "output_type": "execute_result"
    }
   ],
   "source": [
    "xx = df['Do you have any disease?'].value_counts()\n",
    "xx = xx.rename_axis('A').reset_index(name='B')\n",
    "xx"
   ]
  },
  {
   "cell_type": "markdown",
   "id": "a9a5359c-7986-449f-b897-68b0b5254563",
   "metadata": {},
   "source": [
    "### Function : dss"
   ]
  },
  {
   "cell_type": "code",
   "execution_count": 44,
   "id": "ddbc3258-31a5-4438-a37c-866a57179eff",
   "metadata": {},
   "outputs": [
    {
     "name": "stdout",
     "output_type": "stream",
     "text": [
      "Do you have any disease?\n"
     ]
    },
    {
     "data": {
      "image/png": "[encoded data removed]",
      "text/plain": [
       "<Figure size 432x288 with 1 Axes>"
      ]
     },
     "metadata": {
      "needs_background": "light"
     },
     "output_type": "display_data"
    }
   ],
   "source": [
    "def dss():\n",
    "    x = xx['A']\n",
    "    y = xx['B']\n",
    "\n",
    "    plt.barh(x, y)\n",
    "\n",
    "    for index, value in enumerate(y):\n",
    "        plt.text(value, index, str(value))\n",
    "        \n",
    "print('Do you have any disease?')\n",
    "dss()"
   ]
  },
  {
   "cell_type": "markdown",
   "id": "1a1a5c51-57a8-4431-b1b9-6825da4cea26",
   "metadata": {},
   "source": [
    "# <b>Conclusion"
   ]
  },
  {
   "cell_type": "markdown",
   "id": "1f27fcb9-aa63-4813-87f3-885174be27e8",
   "metadata": {},
   "source": [
    "<br><center>Alhamdulillah</center>"
   ]
  }
 ],
 "metadata": {
  "kernelspec": {
   "display_name": "Python 3",
   "language": "python",
   "name": "python3"
  },
  "language_info": {
   "codemirror_mode": {
    "name": "ipython",
    "version": 3
   },
   "file_extension": ".py",
   "mimetype": "text/x-python",
   "name": "python",
   "nbconvert_exporter": "python",
   "pygments_lexer": "ipython3",
   "version": "3.8.8"
  },
  "toc-autonumbering": true,
  "toc-showcode": false,
  "toc-showmarkdowntxt": false
 },
 "nbformat": 4,
 "nbformat_minor": 5
}
