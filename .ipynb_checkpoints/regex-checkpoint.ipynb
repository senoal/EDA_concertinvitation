{
 "cells": [
  {
   "cell_type": "code",
   "execution_count": 4,
   "id": "2b946174-71bf-433e-89eb-213db97943ed",
   "metadata": {},
   "outputs": [],
   "source": [
    "import pandas as pd\n",
    "import re"
   ]
  },
  {
   "cell_type": "code",
   "execution_count": 5,
   "id": "fb564b52-ba23-4ea2-be43-e98e2d380c43",
   "metadata": {},
   "outputs": [],
   "source": [
    "pattern = '[aA-zZ]+'"
   ]
  },
  {
   "cell_type": "code",
   "execution_count": 55,
   "id": "ce9a3cf0-7896-468b-80ef-1dfba89d74cc",
   "metadata": {},
   "outputs": [
    {
     "data": {
      "text/html": [
       "<div>\n",
       "<style scoped>\n",
       "    .dataframe tbody tr th:only-of-type {\n",
       "        vertical-align: middle;\n",
       "    }\n",
       "\n",
       "    .dataframe tbody tr th {\n",
       "        vertical-align: top;\n",
       "    }\n",
       "\n",
       "    .dataframe thead th {\n",
       "        text-align: right;\n",
       "    }\n",
       "</style>\n",
       "<table border=\"1\" class=\"dataframe\">\n",
       "  <thead>\n",
       "    <tr style=\"text-align: right;\">\n",
       "      <th></th>\n",
       "      <th>Timestamp</th>\n",
       "      <th>What's your name?</th>\n",
       "      <th>Will you attend?</th>\n",
       "      <th>How many people will come with you?</th>\n",
       "      <th>What will you bring?</th>\n",
       "      <th>Do you have any disease?</th>\n",
       "      <th>What is your email?</th>\n",
       "    </tr>\n",
       "  </thead>\n",
       "  <tbody>\n",
       "    <tr>\n",
       "      <th>0</th>\n",
       "      <td>2021-09-02 10:31:27.639</td>\n",
       "      <td>Leo Phyno</td>\n",
       "      <td>Yes, I will attend.</td>\n",
       "      <td>1.0</td>\n",
       "      <td>Mineral water</td>\n",
       "      <td>no</td>\n",
       "      <td>phynoal@gmail.com</td>\n",
       "    </tr>\n",
       "    <tr>\n",
       "      <th>1</th>\n",
       "      <td>2021-09-02 10:37:08.559</td>\n",
       "      <td>Karina Van</td>\n",
       "      <td>Yes, I will attend.</td>\n",
       "      <td>3.0</td>\n",
       "      <td>Snacks, Mineral water, Soda</td>\n",
       "      <td>Yes, flu</td>\n",
       "      <td>van3397@gmail.com</td>\n",
       "    </tr>\n",
       "    <tr>\n",
       "      <th>2</th>\n",
       "      <td>2021-09-02 10:47:45.000</td>\n",
       "      <td>Peter</td>\n",
       "      <td>Sorry, I will not attend.</td>\n",
       "      <td>NaN</td>\n",
       "      <td>NaN</td>\n",
       "      <td>NaN</td>\n",
       "      <td>NaN</td>\n",
       "    </tr>\n",
       "    <tr>\n",
       "      <th>3</th>\n",
       "      <td>2021-09-02 10:47:46.427</td>\n",
       "      <td>Terry Lyana</td>\n",
       "      <td>Yes, I will attend.</td>\n",
       "      <td>1.0</td>\n",
       "      <td>Soda</td>\n",
       "      <td>no</td>\n",
       "      <td>lylyana09@gmail.com</td>\n",
       "    </tr>\n",
       "    <tr>\n",
       "      <th>4</th>\n",
       "      <td>2021-09-02 10:48:08.516</td>\n",
       "      <td>Peter</td>\n",
       "      <td>Sorry, I will not attend.</td>\n",
       "      <td>NaN</td>\n",
       "      <td>NaN</td>\n",
       "      <td>NaN</td>\n",
       "      <td>NaN</td>\n",
       "    </tr>\n",
       "  </tbody>\n",
       "</table>\n",
       "</div>"
      ],
      "text/plain": [
       "                Timestamp What's your name?           Will you attend?  \\\n",
       "0 2021-09-02 10:31:27.639         Leo Phyno        Yes, I will attend.   \n",
       "1 2021-09-02 10:37:08.559        Karina Van        Yes, I will attend.   \n",
       "2 2021-09-02 10:47:45.000             Peter  Sorry, I will not attend.   \n",
       "3 2021-09-02 10:47:46.427       Terry Lyana        Yes, I will attend.   \n",
       "4 2021-09-02 10:48:08.516             Peter  Sorry, I will not attend.   \n",
       "\n",
       "   How many people will come with you?         What will you bring?  \\\n",
       "0                                  1.0                Mineral water   \n",
       "1                                  3.0  Snacks, Mineral water, Soda   \n",
       "2                                  NaN                          NaN   \n",
       "3                                  1.0                         Soda   \n",
       "4                                  NaN                          NaN   \n",
       "\n",
       "  Do you have any disease?  What is your email?  \n",
       "0                       no    phynoal@gmail.com  \n",
       "1                 Yes, flu    van3397@gmail.com  \n",
       "2                      NaN                  NaN  \n",
       "3                       no  lylyana09@gmail.com  \n",
       "4                      NaN                  NaN  "
      ]
     },
     "execution_count": 55,
     "metadata": {},
     "output_type": "execute_result"
    }
   ],
   "source": [
    "df = pd.read_excel ('Concert_Invitation.xlsx')\n",
    "df.head()"
   ]
  },
  {
   "cell_type": "code",
   "execution_count": 61,
   "id": "7bd4e86e-07d3-4305-9956-c7747f6e23cb",
   "metadata": {},
   "outputs": [
    {
     "data": {
      "text/plain": [
       "no                                         15\n",
       "Mineral water                               3\n",
       "Soda                                        2\n",
       "Snacks, Mineral water, Soda                 1\n",
       "Snacks, Soda                                1\n",
       "Junk foods, Snacks, Mineral water, Soda     1\n",
       "Snacks, Mineral water                       1\n",
       "Staple foods, Snacks                        1\n",
       "Junk foods, Mineral water                   1\n",
       "Staple foods, Snacks, Soda                  1\n",
       "Staple foods, Mineral water, Other          1\n",
       "Staple foods, Other                         1\n",
       "Other                                       1\n",
       "Name: What will you bring?, dtype: int64"
      ]
     },
     "execution_count": 61,
     "metadata": {},
     "output_type": "execute_result"
    }
   ],
   "source": [
    "df[\"What will you bring?\"].value_counts()"
   ]
  },
  {
   "cell_type": "code",
   "execution_count": 123,
   "id": "7179f8a0-7856-4a6f-9e66-da5854265bbe",
   "metadata": {},
   "outputs": [
    {
     "data": {
      "text/html": [
       "<div>\n",
       "<style scoped>\n",
       "    .dataframe tbody tr th:only-of-type {\n",
       "        vertical-align: middle;\n",
       "    }\n",
       "\n",
       "    .dataframe tbody tr th {\n",
       "        vertical-align: top;\n",
       "    }\n",
       "\n",
       "    .dataframe thead th {\n",
       "        text-align: right;\n",
       "    }\n",
       "</style>\n",
       "<table border=\"1\" class=\"dataframe\">\n",
       "  <thead>\n",
       "    <tr style=\"text-align: right;\">\n",
       "      <th></th>\n",
       "      <th>tes</th>\n",
       "    </tr>\n",
       "  </thead>\n",
       "  <tbody>\n",
       "    <tr>\n",
       "      <th>0</th>\n",
       "      <td>1</td>\n",
       "    </tr>\n",
       "    <tr>\n",
       "      <th>1</th>\n",
       "      <td>1</td>\n",
       "    </tr>\n",
       "    <tr>\n",
       "      <th>2</th>\n",
       "      <td>no</td>\n",
       "    </tr>\n",
       "    <tr>\n",
       "      <th>3</th>\n",
       "      <td>Soda</td>\n",
       "    </tr>\n",
       "    <tr>\n",
       "      <th>4</th>\n",
       "      <td>no</td>\n",
       "    </tr>\n",
       "  </tbody>\n",
       "</table>\n",
       "</div>"
      ],
      "text/plain": [
       "    tes\n",
       "0     1\n",
       "1     1\n",
       "2    no\n",
       "3  Soda\n",
       "4    no"
      ]
     },
     "execution_count": 123,
     "metadata": {},
     "output_type": "execute_result"
    }
   ],
   "source": [
    "df[\"What will you bring?\"] = df[\"What will you bring?\"].fillna('no')\n",
    "\n",
    "rows = []\n",
    "for i in df['What will you bring?']:\n",
    "    if \"Mineral water\" in i:\n",
    "        i = 1\n",
    "    rows.append([i])\n",
    "mw = pd.DataFrame(rows, columns=['tes'])\n",
    "mw.head()"
   ]
  },
  {
   "cell_type": "code",
   "execution_count": 128,
   "id": "a3f98dd6-872d-41f1-9379-0d40412df981",
   "metadata": {},
   "outputs": [
    {
     "data": {
      "text/plain": [
       "0       1\n",
       "1       1\n",
       "2      no\n",
       "3    Soda\n",
       "4      no\n",
       "Name: tes, dtype: object"
      ]
     },
     "execution_count": 128,
     "metadata": {},
     "output_type": "execute_result"
    }
   ],
   "source": [
    "mw['tes'].head()"
   ]
  },
  {
   "cell_type": "code",
   "execution_count": 137,
   "id": "457d3b26-d19f-4a55-9b30-e778da766f44",
   "metadata": {},
   "outputs": [
    {
     "ename": "TypeError",
     "evalue": "argument of type 'int' is not iterable",
     "output_type": "error",
     "traceback": [
      "\u001b[1;31m---------------------------------------------------------------------------\u001b[0m",
      "\u001b[1;31mTypeError\u001b[0m                                 Traceback (most recent call last)",
      "\u001b[1;32m<ipython-input-137-09816bada82e>\u001b[0m in \u001b[0;36m<module>\u001b[1;34m\u001b[0m\n\u001b[0;32m      3\u001b[0m \u001b[0mrows\u001b[0m \u001b[1;33m=\u001b[0m \u001b[1;33m[\u001b[0m\u001b[1;33m]\u001b[0m\u001b[1;33m\u001b[0m\u001b[1;33m\u001b[0m\u001b[0m\n\u001b[0;32m      4\u001b[0m \u001b[1;32mfor\u001b[0m \u001b[0mi\u001b[0m \u001b[1;32min\u001b[0m \u001b[0mmw\u001b[0m\u001b[1;33m[\u001b[0m\u001b[1;34m'tes'\u001b[0m\u001b[1;33m]\u001b[0m\u001b[1;33m:\u001b[0m\u001b[1;33m\u001b[0m\u001b[1;33m\u001b[0m\u001b[0m\n\u001b[1;32m----> 5\u001b[1;33m     \u001b[1;32mif\u001b[0m \u001b[1;34m\"Mineral water\"\u001b[0m \u001b[1;32mnot\u001b[0m \u001b[1;32min\u001b[0m \u001b[0mi\u001b[0m\u001b[1;33m:\u001b[0m\u001b[1;33m\u001b[0m\u001b[1;33m\u001b[0m\u001b[0m\n\u001b[0m\u001b[0;32m      6\u001b[0m         \u001b[0mi\u001b[0m \u001b[1;33m=\u001b[0m \u001b[1;36m0\u001b[0m\u001b[1;33m\u001b[0m\u001b[1;33m\u001b[0m\u001b[0m\n\u001b[0;32m      7\u001b[0m     \u001b[0mrows\u001b[0m\u001b[1;33m.\u001b[0m\u001b[0mappend\u001b[0m\u001b[1;33m(\u001b[0m\u001b[1;33m[\u001b[0m\u001b[0mi\u001b[0m\u001b[1;33m]\u001b[0m\u001b[1;33m)\u001b[0m\u001b[1;33m\u001b[0m\u001b[1;33m\u001b[0m\u001b[0m\n",
      "\u001b[1;31mTypeError\u001b[0m: argument of type 'int' is not iterable"
     ]
    }
   ],
   "source": [
    "# df[\"What will you bring?\"] = df[\"What will you bring?\"].fillna('no')\n",
    "\n",
    "rows = []\n",
    "for i in mw['tes']:\n",
    "    if \"Mineral water\" not in i:\n",
    "        i = 0\n",
    "    rows.append([i])\n",
    "rows\n",
    "# mw = pd.DataFrame(rows, columns=['tes'])\n",
    "# mw.head()"
   ]
  },
  {
   "cell_type": "code",
   "execution_count": 89,
   "id": "2e559389-4b39-49bd-b949-5031c214cd50",
   "metadata": {},
   "outputs": [
    {
     "ename": "SyntaxError",
     "evalue": "invalid syntax (<ipython-input-89-254310738da9>, line 1)",
     "output_type": "error",
     "traceback": [
      "\u001b[1;36m  File \u001b[1;32m\"<ipython-input-89-254310738da9>\"\u001b[1;36m, line \u001b[1;32m1\u001b[0m\n\u001b[1;33m    for \"Mineral water\" not in i:\u001b[0m\n\u001b[1;37m                        ^\u001b[0m\n\u001b[1;31mSyntaxError\u001b[0m\u001b[1;31m:\u001b[0m invalid syntax\n"
     ]
    }
   ],
   "source": [
    "for \"Mineral water\" not in i:\n",
    "    i = 0\n",
    "    rows.append([i])\n"
   ]
  },
  {
   "cell_type": "code",
   "execution_count": 68,
   "id": "7680e650-ee4b-4fec-b422-5201c2999256",
   "metadata": {},
   "outputs": [
    {
     "data": {
      "text/html": [
       "<div>\n",
       "<style scoped>\n",
       "    .dataframe tbody tr th:only-of-type {\n",
       "        vertical-align: middle;\n",
       "    }\n",
       "\n",
       "    .dataframe tbody tr th {\n",
       "        vertical-align: top;\n",
       "    }\n",
       "\n",
       "    .dataframe thead th {\n",
       "        text-align: right;\n",
       "    }\n",
       "</style>\n",
       "<table border=\"1\" class=\"dataframe\">\n",
       "  <thead>\n",
       "    <tr style=\"text-align: right;\">\n",
       "      <th></th>\n",
       "      <th>Soda</th>\n",
       "    </tr>\n",
       "  </thead>\n",
       "  <tbody>\n",
       "    <tr>\n",
       "      <th>0</th>\n",
       "      <td>Mineral water</td>\n",
       "    </tr>\n",
       "    <tr>\n",
       "      <th>1</th>\n",
       "      <td>1</td>\n",
       "    </tr>\n",
       "    <tr>\n",
       "      <th>2</th>\n",
       "      <td>no</td>\n",
       "    </tr>\n",
       "    <tr>\n",
       "      <th>3</th>\n",
       "      <td>1</td>\n",
       "    </tr>\n",
       "    <tr>\n",
       "      <th>4</th>\n",
       "      <td>no</td>\n",
       "    </tr>\n",
       "    <tr>\n",
       "      <th>5</th>\n",
       "      <td>Mineral water</td>\n",
       "    </tr>\n",
       "    <tr>\n",
       "      <th>6</th>\n",
       "      <td>1</td>\n",
       "    </tr>\n",
       "    <tr>\n",
       "      <th>7</th>\n",
       "      <td>1</td>\n",
       "    </tr>\n",
       "    <tr>\n",
       "      <th>8</th>\n",
       "      <td>Snacks, Mineral water</td>\n",
       "    </tr>\n",
       "    <tr>\n",
       "      <th>9</th>\n",
       "      <td>no</td>\n",
       "    </tr>\n",
       "    <tr>\n",
       "      <th>10</th>\n",
       "      <td>no</td>\n",
       "    </tr>\n",
       "    <tr>\n",
       "      <th>11</th>\n",
       "      <td>no</td>\n",
       "    </tr>\n",
       "    <tr>\n",
       "      <th>12</th>\n",
       "      <td>no</td>\n",
       "    </tr>\n",
       "    <tr>\n",
       "      <th>13</th>\n",
       "      <td>no</td>\n",
       "    </tr>\n",
       "    <tr>\n",
       "      <th>14</th>\n",
       "      <td>Mineral water</td>\n",
       "    </tr>\n",
       "    <tr>\n",
       "      <th>15</th>\n",
       "      <td>no</td>\n",
       "    </tr>\n",
       "    <tr>\n",
       "      <th>16</th>\n",
       "      <td>no</td>\n",
       "    </tr>\n",
       "    <tr>\n",
       "      <th>17</th>\n",
       "      <td>no</td>\n",
       "    </tr>\n",
       "    <tr>\n",
       "      <th>18</th>\n",
       "      <td>1</td>\n",
       "    </tr>\n",
       "    <tr>\n",
       "      <th>19</th>\n",
       "      <td>Staple foods, Snacks</td>\n",
       "    </tr>\n",
       "    <tr>\n",
       "      <th>20</th>\n",
       "      <td>Junk foods, Mineral water</td>\n",
       "    </tr>\n",
       "    <tr>\n",
       "      <th>21</th>\n",
       "      <td>no</td>\n",
       "    </tr>\n",
       "    <tr>\n",
       "      <th>22</th>\n",
       "      <td>1</td>\n",
       "    </tr>\n",
       "    <tr>\n",
       "      <th>23</th>\n",
       "      <td>no</td>\n",
       "    </tr>\n",
       "    <tr>\n",
       "      <th>24</th>\n",
       "      <td>Staple foods, Mineral water, Other</td>\n",
       "    </tr>\n",
       "    <tr>\n",
       "      <th>25</th>\n",
       "      <td>Staple foods, Other</td>\n",
       "    </tr>\n",
       "    <tr>\n",
       "      <th>26</th>\n",
       "      <td>no</td>\n",
       "    </tr>\n",
       "    <tr>\n",
       "      <th>27</th>\n",
       "      <td>no</td>\n",
       "    </tr>\n",
       "    <tr>\n",
       "      <th>28</th>\n",
       "      <td>no</td>\n",
       "    </tr>\n",
       "    <tr>\n",
       "      <th>29</th>\n",
       "      <td>Other</td>\n",
       "    </tr>\n",
       "  </tbody>\n",
       "</table>\n",
       "</div>"
      ],
      "text/plain": [
       "                                  Soda\n",
       "0                        Mineral water\n",
       "1                                    1\n",
       "2                                   no\n",
       "3                                    1\n",
       "4                                   no\n",
       "5                        Mineral water\n",
       "6                                    1\n",
       "7                                    1\n",
       "8                Snacks, Mineral water\n",
       "9                                   no\n",
       "10                                  no\n",
       "11                                  no\n",
       "12                                  no\n",
       "13                                  no\n",
       "14                       Mineral water\n",
       "15                                  no\n",
       "16                                  no\n",
       "17                                  no\n",
       "18                                   1\n",
       "19                Staple foods, Snacks\n",
       "20           Junk foods, Mineral water\n",
       "21                                  no\n",
       "22                                   1\n",
       "23                                  no\n",
       "24  Staple foods, Mineral water, Other\n",
       "25                 Staple foods, Other\n",
       "26                                  no\n",
       "27                                  no\n",
       "28                                  no\n",
       "29                               Other"
      ]
     },
     "execution_count": 68,
     "metadata": {},
     "output_type": "execute_result"
    }
   ],
   "source": [
    "df[\"What will you bring?\"] = df[\"What will you bring?\"].fillna('no')\n",
    "\n",
    "rows = []\n",
    "for i in df['What will you bring?']:\n",
    "    if \"Soda\" in i:\n",
    "        i = 1\n",
    "    rows.append([i])\n",
    "sd = pd.DataFrame(rows, columns=['Soda'])\n",
    "sd"
   ]
  },
  {
   "cell_type": "code",
   "execution_count": 17,
   "id": "68e3841f-11b4-47bc-b9a4-daa4efe7b269",
   "metadata": {},
   "outputs": [],
   "source": [
    "text = 'python is the best programming language in the world YEAH'"
   ]
  },
  {
   "cell_type": "code",
   "execution_count": 18,
   "id": "450df140-b4f8-41b2-8014-5cd4833b0aeb",
   "metadata": {},
   "outputs": [
    {
     "data": {
      "text/plain": [
       "10"
      ]
     },
     "execution_count": 18,
     "metadata": {},
     "output_type": "execute_result"
    }
   ],
   "source": [
    "len(re.findall(pattern, text))"
   ]
  },
  {
   "cell_type": "code",
   "execution_count": 25,
   "id": "8805421d-8b1d-4d9a-bd56-07c3dd4cf7f1",
   "metadata": {},
   "outputs": [
    {
     "data": {
      "text/plain": [
       "['python',\n",
       " 'is',\n",
       " 'the',\n",
       " 'best',\n",
       " 'programming',\n",
       " 'language',\n",
       " 'in',\n",
       " 'the',\n",
       " 'world',\n",
       " 'YEAH']"
      ]
     },
     "execution_count": 25,
     "metadata": {},
     "output_type": "execute_result"
    }
   ],
   "source": [
    "a = re.findall(pattern, text)\n",
    "a"
   ]
  },
  {
   "cell_type": "code",
   "execution_count": 27,
   "id": "878ec3ba-055b-480c-86bc-e1dbe1b8992e",
   "metadata": {},
   "outputs": [
    {
     "name": "stdout",
     "output_type": "stream",
     "text": [
      "The original string is : Geeksforgeeks is best, Computer Science Portal\n",
      "The number of words in string are : 2\n"
     ]
    }
   ],
   "source": [
    "test_string = \"Geeksforgeeks is best, Computer Science Portal\"\n",
    "  \n",
    "# printing original string\n",
    "print (\"The original string is : \" +  test_string)\n",
    "  \n",
    "# using split()\n",
    "# to count words in string\n",
    "res = len(test_string.split(','))\n",
    "  \n",
    "# printing result\n",
    "print (\"The number of words in string are : \" +  str(res))"
   ]
  },
  {
   "cell_type": "code",
   "execution_count": 23,
   "id": "48c37c90-cc7f-44bc-8353-3ea39372f041",
   "metadata": {},
   "outputs": [
    {
     "data": {
      "text/html": [
       "<div>\n",
       "<style scoped>\n",
       "    .dataframe tbody tr th:only-of-type {\n",
       "        vertical-align: middle;\n",
       "    }\n",
       "\n",
       "    .dataframe tbody tr th {\n",
       "        vertical-align: top;\n",
       "    }\n",
       "\n",
       "    .dataframe thead th {\n",
       "        text-align: right;\n",
       "    }\n",
       "</style>\n",
       "<table border=\"1\" class=\"dataframe\">\n",
       "  <thead>\n",
       "    <tr style=\"text-align: right;\">\n",
       "      <th></th>\n",
       "      <th>0</th>\n",
       "    </tr>\n",
       "  </thead>\n",
       "  <tbody>\n",
       "    <tr>\n",
       "      <th>0</th>\n",
       "      <td>python</td>\n",
       "    </tr>\n",
       "    <tr>\n",
       "      <th>1</th>\n",
       "      <td>is</td>\n",
       "    </tr>\n",
       "    <tr>\n",
       "      <th>2</th>\n",
       "      <td>the</td>\n",
       "    </tr>\n",
       "    <tr>\n",
       "      <th>3</th>\n",
       "      <td>best</td>\n",
       "    </tr>\n",
       "    <tr>\n",
       "      <th>4</th>\n",
       "      <td>programming</td>\n",
       "    </tr>\n",
       "    <tr>\n",
       "      <th>5</th>\n",
       "      <td>language</td>\n",
       "    </tr>\n",
       "    <tr>\n",
       "      <th>6</th>\n",
       "      <td>in</td>\n",
       "    </tr>\n",
       "    <tr>\n",
       "      <th>7</th>\n",
       "      <td>the</td>\n",
       "    </tr>\n",
       "    <tr>\n",
       "      <th>8</th>\n",
       "      <td>world</td>\n",
       "    </tr>\n",
       "    <tr>\n",
       "      <th>9</th>\n",
       "      <td>YEAH</td>\n",
       "    </tr>\n",
       "  </tbody>\n",
       "</table>\n",
       "</div>"
      ],
      "text/plain": [
       "             0\n",
       "0       python\n",
       "1           is\n",
       "2          the\n",
       "3         best\n",
       "4  programming\n",
       "5     language\n",
       "6           in\n",
       "7          the\n",
       "8        world\n",
       "9         YEAH"
      ]
     },
     "execution_count": 23,
     "metadata": {},
     "output_type": "execute_result"
    }
   ],
   "source": []
  },
  {
   "cell_type": "code",
   "execution_count": null,
   "id": "7ba8e746-81b0-4b7a-a301-eba2c4fa7a22",
   "metadata": {},
   "outputs": [],
   "source": []
  }
 ],
 "metadata": {
  "kernelspec": {
   "display_name": "Python 3",
   "language": "python",
   "name": "python3"
  },
  "language_info": {
   "codemirror_mode": {
    "name": "ipython",
    "version": 3
   },
   "file_extension": ".py",
   "mimetype": "text/x-python",
   "name": "python",
   "nbconvert_exporter": "python",
   "pygments_lexer": "ipython3",
   "version": "3.8.8"
  }
 },
 "nbformat": 4,
 "nbformat_minor": 5
}
